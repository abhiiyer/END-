{
  "nbformat": 4,
  "nbformat_minor": 0,
  "metadata": {
    "colab": {
      "name": "IMDB_Pytorch_Nov17.ipynb",
      "provenance": [],
      "collapsed_sections": [],
      "authorship_tag": "ABX9TyM/bYBDwoCTdqY+IEvKqFaq",
      "include_colab_link": true
    },
    "kernelspec": {
      "name": "python3",
      "display_name": "Python 3"
    },
    "accelerator": "GPU"
  },
  "cells": [
    {
      "cell_type": "markdown",
      "metadata": {
        "id": "view-in-github",
        "colab_type": "text"
      },
      "source": [
        "<a href=\"https://colab.research.google.com/github/abhiiyer/END-/blob/main/Session4_Assignment.ipynb\" target=\"_parent\"><img src=\"https://colab.research.google.com/assets/colab-badge.svg\" alt=\"Open In Colab\"/></a>"
      ]
    },
    {
      "cell_type": "code",
      "metadata": {
        "id": "PeHoohrpjpkp"
      },
      "source": [
        "import torch  #deal with tensors\n",
        "from torchtext import data #handling text data\n",
        "from torchtext import datasets\n",
        "\n",
        "SEED = 1234 #Reproducing same results\n",
        "\n",
        "torch.manual_seed(SEED)\n",
        "torch.backends.cudnn.deterministic = True  #Cuda algorithms\n",
        "\n",
        "TEXT = data.Field(tokenize = 'spacy', include_lengths = True)\n",
        "LABEL = data.LabelField(dtype = torch.float)\n",
        "\n",
        "from torchtext import datasets\n",
        "train_data, test_data = datasets.IMDB.splits(TEXT, LABEL)\n",
        "\n",
        "for i in range(len(train_data)):\n",
        "  vars(train_data.examples[i]).get('text').reverse()\n",
        "\n",
        "import random\n",
        "train_data, valid_data = train_data.split(random_state = random.seed(SEED))\n",
        "\n",
        "MAX_VOCAB_SIZE = 25_000\n",
        "\n",
        "#initialize glove embeddings\n",
        "TEXT.build_vocab(train_data, \n",
        "                 max_size = MAX_VOCAB_SIZE, \n",
        "                 vectors = \"glove.6B.100d\",   # Changed from 100D to 300D\n",
        "                 unk_init = torch.Tensor.normal_)\n",
        "\n",
        "LABEL.build_vocab(train_data)\n",
        "\n",
        "#set batch size\n",
        "BATCH_SIZE = 64\n",
        "\n",
        "#check whether cuda is available\n",
        "device = torch.device('cuda' if torch.cuda.is_available() else 'cpu')\n",
        "\n",
        "train_iterator, valid_iterator, test_iterator = data.BucketIterator.splits(\n",
        "    (train_data, valid_data, test_data), \n",
        "    batch_size = BATCH_SIZE,\n",
        "    sort_within_batch = True,\n",
        "    device = device)\n",
        "\n"
      ],
      "execution_count": 1,
      "outputs": []
    },
    {
      "cell_type": "code",
      "metadata": {
        "id": "rphRsRWko0Cn",
        "outputId": "e2cc53ef-3a2c-49a4-f916-ec5519079fea",
        "colab": {
          "base_uri": "https://localhost:8080/"
        }
      },
      "source": [
        "print(vars(train_data.examples[0])['text'])"
      ],
      "execution_count": 2,
      "outputs": [
        {
          "output_type": "stream",
          "text": [
            "['.', 'involved', 'everyone', 'for', 'embarrassed', 'deeply', 'felt', 'actually', 'I', 'where', 'experiences', 'going', '-', 'movie', 'unfortunate', 'those', 'of', 'one', \"'s\", 'It', '.', 'one', 'this', 'save', \"n't\", 'ca', 'Rapp', 'Anthony', 'Even', '.', 'charming', 'and', 'witty', 'are', 'that', 'lyrics', 'have', 'you', ')', 'e.', '(', 'and', ',', 'score', 'written', '-', 'well', 'a', 'have', 'you', ')', 'd.', '(', ',', 'equipment', 'sound', 'decent', 'have', 'you', ')', 'c.', '(', ',', 'dance', 'can', 'actors', 'your', ')', 'b.', '(', ',', 'sing', 'can', 'actors', 'your', ')', 'a.', '(', 'that', 'sure', 'make', 'probably', 'should', 'you', ',', 'playhouse', 'community', 'local', 'the', 'at', 'or', 'Broadway', 'on', 'whether', ',', 'stage', 'on', 'or', 'film', 'on', 'whether', ',', 'musical', 'a', 'make', 'to', 'going', \"'re\", 'you', 'If', '.', 'pass', 'free', 'a', 'gets', 'it', 'mean', \"n't\", 'does', '\"', 'independent', '\"', \"'s\", 'it', 'because', 'Just', '.', 'unwatchable', 'truly', 'is', 'film', 'this', 'that', 'is', ',', 'friends', 'my', ',', 'truth', 'The', '.', 'groupies', '\"', 'House', 'Open', '\"', 'of', 'group', 'coordinated', ',', 'small', 'a', 'best', 'at', 'or', ',', 'person', 'same', 'the', 'from', 'coming', \"'re\", 'they', 'like', 'sound', 'reviews', 'rave', 'these', 'of', 'most', ',', 'is', 'thing', 'Funny', '\"', '.', '30', 'December', 'on', 'posted', 'REVIEWS', 'RAVE', 'of', 'bunch', 'a', 'sure', 'were', 'There', '.', 'Huh', '\"', ',', 'yourself', 'to', 'thinking', 'be', 'might', 'you', 'and', ',', 'film', 'this', 'on', 'posted', 'comments', 'the', 'of', 'some', 'reading', 'be', 'might', 'you', 'So']\n"
          ],
          "name": "stdout"
        }
      ]
    },
    {
      "cell_type": "code",
      "metadata": {
        "id": "lfMiXPm7o0F-"
      },
      "source": [
        "https://medium.com/@adam.wearne/lets-get-sentimental-with-pytorch-dcdd9e1ea4c9"
      ],
      "execution_count": null,
      "outputs": []
    },
    {
      "cell_type": "code",
      "metadata": {
        "id": "tXNKhLt3F7Xc"
      },
      "source": [
        "from torch import nn\n",
        "\n",
        "class AdamNetV21(nn.Module):\n",
        "  def __init__(self, vocab_size, embedding_dim, hidden_dim, n_layers,is_bidirectional=True,\n",
        "              dropout=0.0, output_dim=1, padding_idx=None):\n",
        "    super().__init__()\n",
        "        \n",
        "    embedding = nn.Embedding(vocab_size, embedding_dim, \n",
        "                                  padding_idx=padding_idx)\n",
        "    \n",
        "    lstm = nn.LSTM(embedding_dim, hidden_dim, \n",
        "                        num_layers=n_layers,bidirectional=is_bidirectional,\n",
        "                       dropout=dropout)\n",
        "    \n",
        "    fc = nn.Linear(2*hidden_dim, output_dim)\n",
        "    #dpout = nn.Dropout(dropout)\n",
        "    \n",
        "    l = [embedding,lstm,fc]\n",
        "    self.module_list = nn.ModuleList(l)\n",
        "    \n",
        "  def forward(self, input_sequence, sequence_length):\n",
        "\n",
        "    for f in self.module_list:\n",
        "      #print(\"Inside forward function. f is \",f)\n",
        "      embeddings = (self.module_list[0](input_sequence))\n",
        "      packed_embeddings = nn.utils.rnn.pack_padded_sequence(embeddings, sequence_length)\n",
        "      packed_output, (hidden_state, cell_state) = self.module_list[1](packed_embeddings)\n",
        "      output = (torch.cat((hidden_state[-2,:,:], hidden_state[-1,:,:]), dim = 1))\n",
        "      scores = self.module_list[2](output)\n",
        "      return scores\n",
        "      \n",
        "      # if self.is_bidirectional:\n",
        "      #   output = torch.cat((hidden_state[-2,:,:], hidden_state[-1,:,:]), dim = 1)\n",
        "      # else:\n",
        "      #   output = hidden_state[-1,:,:]\n",
        "      \n",
        "    \n",
        "    "
      ],
      "execution_count": 3,
      "outputs": []
    },
    {
      "cell_type": "code",
      "metadata": {
        "id": "XX8pPV52o0JL",
        "outputId": "4261b3a9-c6f2-4c12-8c06-c502c16b681a",
        "colab": {
          "base_uri": "https://localhost:8080/"
        }
      },
      "source": [
        "# class AdamNetV2(nn.Module):\n",
        "#   def __init__(self, vocab_size, embedding_dim, hidden_dim, n_layers,\n",
        "#               is_bidirectional=True, dropout=0.0, output_dim=1, padding_idx=None):\n",
        "#     super().__init__()\n",
        "    \n",
        "#     self.embedding = nn.Embedding(vocab_size, embedding_dim, \n",
        "#                                   padding_idx=padding_idx)\n",
        "    \n",
        "    \n",
        "#     self.lstm = nn.LSTM(embedding_dim, hidden_dim, \n",
        "#                         num_layers=n_layers, bidirectional=is_bidirectional,\n",
        "#                        dropout=dropout)\n",
        "    \n",
        "#     self.fc = nn.Linear((is_bidirectional+1)*hidden_dim, output_dim)\n",
        "    \n",
        "#     self.is_bidirectional = is_bidirectional\n",
        "    \n",
        "#   def forward(self, input_sequence, sequence_length):\n",
        "\n",
        "    \n",
        "#     embeddings = self.embedding(input_sequence)\n",
        "    \n",
        "#     packed_embeddings = nn.utils.rnn.pack_padded_sequence(embeddings, \n",
        "#                                                         sequence_length)\n",
        "    \n",
        "#     packed_output, (hidden_state, cell_state) = self.lstm(packed_embeddings)\n",
        "        \n",
        "#     if self.is_bidirectional:\n",
        "#       output = torch.cat((hidden_state[-2,:,:], hidden_state[-1,:,:]), dim = 1)\n",
        "#     else:\n",
        "#       output = hidden_state[-1,:,:]\n",
        "#     scores = self.fc(output)\n",
        "    \n",
        "#     return scores\n",
        "\n",
        "# model2 = AdamNetV2(vocab_size=vocab_size, embedding_dim=embedding_dim,hidden_dim=hidden_dim,\n",
        "#                   n_layers=num_layers,  dropout=dropout,\n",
        "#                   padding_idx=pad_idx)\n",
        "# print(model2)"
      ],
      "execution_count": 8,
      "outputs": [
        {
          "output_type": "stream",
          "text": [
            "AdamNetV2(\n",
            "  (embedding): Embedding(25002, 100, padding_idx=1)\n",
            "  (lstm): LSTM(100, 256, num_layers=3, dropout=0.2, bidirectional=True)\n",
            "  (fc): Linear(in_features=512, out_features=1, bias=True)\n",
            ")\n"
          ],
          "name": "stdout"
        }
      ]
    },
    {
      "cell_type": "code",
      "metadata": {
        "id": "7u69j5uPVhrc",
        "outputId": "bcb6f81f-224a-4107-e028-c35553360c85",
        "colab": {
          "base_uri": "https://localhost:8080/"
        }
      },
      "source": [
        "print(model.module_list[0])\n",
        "model.module_list[0].weight.data.copy_(glove_vectors)"
      ],
      "execution_count": 10,
      "outputs": [
        {
          "output_type": "stream",
          "text": [
            "Embedding(25002, 100, padding_idx=1)\n"
          ],
          "name": "stdout"
        },
        {
          "output_type": "execute_result",
          "data": {
            "text/plain": [
              "tensor([[-0.1117, -0.4966,  0.1631,  ...,  1.2647, -0.2753, -0.1325],\n",
              "        [-0.8555, -0.7208,  1.3755,  ...,  0.0825, -1.1314,  0.3997],\n",
              "        [-0.0382, -0.2449,  0.7281,  ..., -0.1459,  0.8278,  0.2706],\n",
              "        ...,\n",
              "        [-0.3970,  0.4024,  1.0612,  ..., -0.0136, -0.3363,  0.6442],\n",
              "        [-0.5197,  1.0395,  0.2092,  ..., -0.8857, -0.2294,  0.1244],\n",
              "        [ 0.0057, -0.0707, -0.0804,  ..., -0.3292, -0.0130,  0.0716]])"
            ]
          },
          "metadata": {
            "tags": []
          },
          "execution_count": 10
        }
      ]
    },
    {
      "cell_type": "code",
      "metadata": {
        "id": "Y5aIveAUo_-_",
        "outputId": "fde0d060-59ef-462d-a336-841ead958ae5",
        "colab": {
          "base_uri": "https://localhost:8080/"
        }
      },
      "source": [
        "vocab_size = len(TEXT.vocab)\n",
        "embedding_dim = 100 # This needs to match the size of the pre-trained embeddings!\n",
        "hidden_dim = 256\n",
        "num_layers = 3\n",
        "dropout = 0.2\n",
        "pad_idx = TEXT.vocab.stoi[TEXT.pad_token]\n",
        "model = AdamNetV21(vocab_size=vocab_size, embedding_dim=embedding_dim,hidden_dim=hidden_dim,\n",
        "                  n_layers=num_layers,  dropout=dropout,\n",
        "                  padding_idx=pad_idx)\n",
        "print(model)\n",
        "#print(list(model.parameters()))\n",
        "\n",
        "\n",
        "\n",
        "# Initialize word embeddings\n",
        "glove_vectors = TEXT.vocab.vectors\n",
        "model.module_list[0].weight.data.copy_(glove_vectors)\n",
        "# Zero out <unk> and <pad> tokens\n",
        "unk_idx = TEXT.vocab.stoi[TEXT.unk_token]\n",
        "model.module_list[0].weight.data[unk_idx] = torch.zeros(embedding_dim)\n",
        "model.module_list[0].weight.data[pad_idx] = torch.zeros(embedding_dim)\n",
        "# Define our loss function, optimizer, and move things to GPU\n",
        "criterion = nn.BCEWithLogitsLoss()\n",
        "model = model.to(device)\n",
        "criterion = criterion.to(device)\n",
        "\n",
        "import torch.optim as optim\n",
        "optimizer = optim.Adam(model.parameters())"
      ],
      "execution_count": 4,
      "outputs": [
        {
          "output_type": "stream",
          "text": [
            "AdamNetV21(\n",
            "  (module_list): ModuleList(\n",
            "    (0): Embedding(25002, 100, padding_idx=1)\n",
            "    (1): LSTM(100, 256, num_layers=3, dropout=0.2, bidirectional=True)\n",
            "    (2): Linear(in_features=512, out_features=1, bias=True)\n",
            "  )\n",
            ")\n"
          ],
          "name": "stdout"
        }
      ]
    },
    {
      "cell_type": "code",
      "metadata": {
        "id": "C1WnjzuOpABe"
      },
      "source": [
        "def accuracy(scores, y):    \n",
        "    scores = torch.round(torch.sigmoid(scores))\n",
        "    correct = (scores == y)\n",
        "    acc = correct.sum() / len(correct)\n",
        "    return acc\n",
        "\n",
        "def train(model, iterator, optimizer, criterion):\n",
        "    \n",
        "    epoch_loss = 0\n",
        "    epoch_acc = 0\n",
        "    \n",
        "    model.train()\n",
        "    \n",
        "    for batch in iterator:\n",
        "        \n",
        "        optimizer.zero_grad()\n",
        "        \n",
        "        text, text_lengths = batch.text\n",
        "        text_lengths = text_lengths.cpu()\n",
        "        predictions = model(text, text_lengths).squeeze(1)\n",
        "        \n",
        "        loss = criterion(predictions, batch.label)\n",
        "        \n",
        "        acc = accuracy(predictions, batch.label)\n",
        "        \n",
        "        loss.backward()\n",
        "        \n",
        "        optimizer.step()\n",
        "        \n",
        "        epoch_loss += loss.item()\n",
        "        epoch_acc += acc.item()\n",
        "    return epoch_loss / len(iterator), epoch_acc / len(iterator)\n",
        "\n",
        "\n",
        "def evaluate(model, iterator, criterion):\n",
        "    \n",
        "    epoch_loss = 0\n",
        "    epoch_acc = 0\n",
        "    \n",
        "    model.eval()\n",
        "    \n",
        "    with torch.no_grad():\n",
        "    \n",
        "        for batch in iterator:\n",
        "            text, text_lengths = batch.text\n",
        "            text_lengths = text_lengths.cpu()\n",
        "            predictions = model(text, text_lengths).squeeze(1)\n",
        "            \n",
        "            loss = criterion(predictions, batch.label)\n",
        "            \n",
        "            acc = accuracy(predictions, batch.label)\n",
        "            epoch_loss += loss.item()\n",
        "            epoch_acc += acc.item()\n",
        "      \n",
        "    \n",
        "    return epoch_loss / len(iterator), epoch_acc / len(iterator)\n"
      ],
      "execution_count": 5,
      "outputs": []
    },
    {
      "cell_type": "code",
      "metadata": {
        "id": "Ice244gw3Shg"
      },
      "source": [
        "import time\n",
        "\n",
        "def epoch_time(start_time, end_time):\n",
        "    elapsed_time = end_time - start_time\n",
        "    elapsed_mins = int(elapsed_time / 60)\n",
        "    elapsed_secs = int(elapsed_time - (elapsed_mins * 60))\n",
        "    return elapsed_mins, elapsed_secs"
      ],
      "execution_count": 7,
      "outputs": []
    },
    {
      "cell_type": "code",
      "metadata": {
        "id": "-MVG8zXBpAD6",
        "outputId": "468eafba-155d-4b4e-bfdd-526edd62a79e",
        "colab": {
          "base_uri": "https://localhost:8080/"
        }
      },
      "source": [
        "num_epochs = 10\n",
        "best_valid_loss = 1000000\n",
        "\n",
        "# from tensorboardX import SummaryWriter\n",
        "# summary_writer = SummaryWriter(log_dir=f\"C:/Users/Lenovo/Desktop/Banking Use-Cases/tf_log/\")\n",
        "\n",
        "for epoch in range(num_epochs):    \n",
        "\n",
        "    start_time = time.time()\n",
        "    train_loss, train_acc = train(model, train_iterator, optimizer, criterion)\n",
        "    valid_loss, valid_acc = evaluate(model, valid_iterator, criterion)\n",
        "\n",
        "    end_time = time.time()\n",
        "\n",
        "    epoch_mins, epoch_secs = epoch_time(start_time, end_time)\n",
        "    \n",
        "    if valid_loss < best_valid_loss:\n",
        "        best_valid_loss = valid_loss\n",
        "        torch.save(model.state_dict(), 'tut2-model.pt')\n",
        "\n",
        "    print(f'Epoch: {epoch+1:02} | Epoch Time: {epoch_mins}m {epoch_secs}s')\n",
        "    print(f'\\tTrain Loss: {train_loss:.3f} | Train Acc: {train_acc*100:.2f}%')\n",
        "    print(f'\\t Val. Loss: {valid_loss:.3f} |  Val. Acc: {valid_acc*100:.2f}%')\n",
        "    \n",
        "    # # Log the training results\n",
        "    # summary_writer.add_scalar(\"training/accuracy\", train_acc, epoch)\n",
        "    # summary_writer.add_scalar(\"training/loss\", train_loss, epoch)\n",
        "    \n",
        "    # # Log the validation results\n",
        "    # summary_writer.add_scalar(\"validation/accuracy\", valid_acc, epoch)\n",
        "    # summary_writer.add_scalar(\"validation/loss\", valid_loss, epoch)\n",
        " \n",
        "   \n",
        "    # # After completing all epochs, visualize our word vectors\n",
        "    # vecs = model.embedding.weight.data\n",
        "    # labels = [l.encode('utf8') for l in TEXT.vocab.itos]\n",
        "    # summary_writer.add_embedding(vecs, \n",
        "    #                             metadata=labels)\n",
        "    # summary_writer.close()\n",
        "\n",
        "# Print test performance\n",
        "test_loss, test_accuracy = evaluate(model, test_iterator, criterion)\n",
        "print(f'Test Loss: {test_loss:.3f}\\nTest Acc: {test_accuracy*100:.2f}%')"
      ],
      "execution_count": 8,
      "outputs": [
        {
          "output_type": "stream",
          "text": [
            "Epoch: 01 | Epoch Time: 1m 5s\n",
            "\tTrain Loss: 0.526 | Train Acc: 74.43%\n",
            "\t Val. Loss: 0.487 |  Val. Acc: 77.91%\n",
            "Epoch: 02 | Epoch Time: 1m 7s\n",
            "\tTrain Loss: 0.345 | Train Acc: 85.53%\n",
            "\t Val. Loss: 0.349 |  Val. Acc: 85.79%\n",
            "Epoch: 03 | Epoch Time: 1m 8s\n",
            "\tTrain Loss: 0.272 | Train Acc: 89.00%\n",
            "\t Val. Loss: 0.402 |  Val. Acc: 82.80%\n",
            "Epoch: 04 | Epoch Time: 1m 8s\n",
            "\tTrain Loss: 0.205 | Train Acc: 92.28%\n",
            "\t Val. Loss: 0.298 |  Val. Acc: 87.91%\n",
            "Epoch: 05 | Epoch Time: 1m 8s\n",
            "\tTrain Loss: 0.166 | Train Acc: 93.78%\n",
            "\t Val. Loss: 0.357 |  Val. Acc: 87.50%\n",
            "Epoch: 06 | Epoch Time: 1m 8s\n",
            "\tTrain Loss: 0.122 | Train Acc: 95.77%\n",
            "\t Val. Loss: 0.340 |  Val. Acc: 87.96%\n",
            "Epoch: 07 | Epoch Time: 1m 8s\n",
            "\tTrain Loss: 0.157 | Train Acc: 94.91%\n",
            "\t Val. Loss: 0.340 |  Val. Acc: 86.55%\n",
            "Epoch: 08 | Epoch Time: 1m 8s\n",
            "\tTrain Loss: 0.089 | Train Acc: 97.07%\n",
            "\t Val. Loss: 0.387 |  Val. Acc: 87.39%\n",
            "Epoch: 09 | Epoch Time: 1m 8s\n",
            "\tTrain Loss: 0.056 | Train Acc: 98.27%\n",
            "\t Val. Loss: 0.420 |  Val. Acc: 88.10%\n",
            "Epoch: 10 | Epoch Time: 1m 8s\n",
            "\tTrain Loss: 0.038 | Train Acc: 98.96%\n",
            "\t Val. Loss: 0.456 |  Val. Acc: 88.22%\n",
            "Test Loss: 0.566\n",
            "Test Acc: 84.64%\n"
          ],
          "name": "stdout"
        }
      ]
    },
    {
      "cell_type": "code",
      "metadata": {
        "id": "TdWjgDdXpAGJ",
        "outputId": "92583798-6e88-43de-b990-048101fea5ea",
        "colab": {
          "base_uri": "https://localhost:8080/"
        }
      },
      "source": [
        "print(f'Test Loss: {test_loss:.3f}\\nTest Acc: {test_accuracy*100:.2f}%')"
      ],
      "execution_count": 20,
      "outputs": [
        {
          "output_type": "stream",
          "text": [
            "Test Loss: 0.504\n",
            "Test Acc: 83.84%\n"
          ],
          "name": "stdout"
        }
      ]
    },
    {
      "cell_type": "code",
      "metadata": {
        "id": "_uWp4M5FpAI3"
      },
      "source": [
        "import spacy\n",
        "nlp = spacy.load('en')\n",
        "\n",
        "def predict_sentiment(model, sentence):\n",
        "    model.eval()\n",
        "    tokenized = [tok.text for tok in nlp.tokenizer(sentence)]\n",
        "    indexed = [TEXT.vocab.stoi[t] for t in tokenized]\n",
        "    length = [len(indexed)]\n",
        "    tensor = torch.LongTensor(indexed).to(device)\n",
        "    tensor = tensor.unsqueeze(1)\n",
        "    length_tensor = torch.LongTensor(length)\n",
        "    prediction = torch.sigmoid(model(tensor, length_tensor))\n",
        "    return prediction.item()"
      ],
      "execution_count": 25,
      "outputs": []
    },
    {
      "cell_type": "code",
      "metadata": {
        "id": "3EpDFmH-zzlF",
        "outputId": "ee689b80-9d32-4650-9b6b-3ff7fc6b1b5c",
        "colab": {
          "base_uri": "https://localhost:8080/"
        }
      },
      "source": [
        "predict_sentiment(model, \"great is film This\")\n"
      ],
      "execution_count": 30,
      "outputs": [
        {
          "output_type": "execute_result",
          "data": {
            "text/plain": [
              "0.9997666478157043"
            ]
          },
          "metadata": {
            "tags": []
          },
          "execution_count": 30
        }
      ]
    },
    {
      "cell_type": "code",
      "metadata": {
        "id": "5JAZPjcKzzqY",
        "outputId": "db721395-be74-44d4-e9c6-e5d30f718a7d",
        "colab": {
          "base_uri": "https://localhost:8080/"
        }
      },
      "source": [
        "predict_sentiment(model, \"This film is great\")\n"
      ],
      "execution_count": 27,
      "outputs": [
        {
          "output_type": "execute_result",
          "data": {
            "text/plain": [
              "0.9999008178710938"
            ]
          },
          "metadata": {
            "tags": []
          },
          "execution_count": 27
        }
      ]
    },
    {
      "cell_type": "code",
      "metadata": {
        "id": "zHSF96PXzzte"
      },
      "source": [
        ""
      ],
      "execution_count": null,
      "outputs": []
    },
    {
      "cell_type": "code",
      "metadata": {
        "id": "BIjsjlJUkDf9"
      },
      "source": [
        "import torch.nn as nn\n",
        "\n",
        "class BiRNN(nn.Module):\n",
        "    \n",
        "    def __init__(self, vocab_size, embedding_dim, hidden_dim, \n",
        "                 output_dim, n_layers, bidirectional, dropout):\n",
        "        \n",
        "        super().__init__()\n",
        "        \n",
        "        self.embedding = nn.Embedding(vocab_size, embedding_dim) # convert sparse 1 hot encoded vectors to embeddings (glove embedding will be used here)\n",
        "        \n",
        "        self.rnn = nn.GRU(embedding_dim, hidden_dim, num_layers = n_layers, \n",
        "                           bidirectional = bidirectional, dropout=dropout)\n",
        "        \n",
        "        self.fc = nn.Linear(hidden_dim*2, output_dim)\n",
        "        \n",
        "        self.dropout = nn.Dropout(dropout)\n",
        "\n",
        "        \n",
        "    def forward(self, text):\n",
        "        \n",
        "        embedded = self.dropout(self.embedding(text))\n",
        "        \n",
        "        output, hidden = self.rnn(embedded)\n",
        "        \n",
        "        hidden = self.dropout(torch.cat((hidden[-2,:,:], hidden[-1,:,:]), dim=1))\n",
        "       \n",
        "        return self.fc(hidden.squeeze(0))"
      ],
      "execution_count": 2,
      "outputs": []
    },
    {
      "cell_type": "code",
      "metadata": {
        "id": "WaVHb_a1lxBY",
        "outputId": "86b02e98-be88-4916-ce4a-063608c62a09",
        "colab": {
          "base_uri": "https://localhost:8080/"
        }
      },
      "source": [
        "input_dim = len(TEXT.vocab)\n",
        "\n",
        "embedding_dim = 100\n",
        "\n",
        "hidden_dim = 20\n",
        "output_dim = 1\n",
        "\n",
        "n_layers = 2 # for mutil layer rnn\n",
        "bidirectional = True\n",
        "\n",
        "dropout = 0.5\n",
        "\n",
        "model = BiRNN(input_dim, \n",
        "            embedding_dim, \n",
        "            hidden_dim, \n",
        "            output_dim, \n",
        "            n_layers, \n",
        "            bidirectional, \n",
        "            dropout)\n",
        "\n",
        "print(model)"
      ],
      "execution_count": 3,
      "outputs": [
        {
          "output_type": "stream",
          "text": [
            "BiRNN(\n",
            "  (embedding): Embedding(25002, 100)\n",
            "  (rnn): GRU(100, 20, num_layers=2, dropout=0.5, bidirectional=True)\n",
            "  (fc): Linear(in_features=40, out_features=1, bias=True)\n",
            "  (dropout): Dropout(p=0.5, inplace=False)\n",
            ")\n"
          ],
          "name": "stdout"
        }
      ]
    },
    {
      "cell_type": "code",
      "metadata": {
        "id": "40xyxShpmhxH"
      },
      "source": [
        "def to_device(data, device):\n",
        "    \"\"\"Move tensor(s) to chosen device\"\"\"\n",
        "    if isinstance(data, (list,tuple)):\n",
        "        return [to_device(x, device) for x in data]\n",
        "    return data.to(device, non_blocking=True)"
      ],
      "execution_count": 6,
      "outputs": []
    },
    {
      "cell_type": "code",
      "metadata": {
        "id": "DsBLC_lXl88D",
        "outputId": "cf8d4ecf-0e1c-4131-c0a7-6ae9f0663eb4",
        "colab": {
          "base_uri": "https://localhost:8080/"
        }
      },
      "source": [
        "bi_rnn = to_device(model, device)\n",
        "\n",
        "pretrained_embeddings = TEXT.vocab.vectors\n",
        "\n",
        "print(pretrained_embeddings.shape)\n",
        "\n",
        "bi_rnn.embedding.weight.data.copy_(pretrained_embeddings)\n",
        "\n",
        "unk_idx = TEXT.vocab.stoi[TEXT.unk_token]\n",
        "pad_idx = TEXT.vocab.stoi[TEXT.pad_token]\n",
        "\n",
        "bi_rnn.embedding.weight.data[unk_idx] = torch.zeros(embedding_dim)\n",
        "bi_rnn.embedding.weight.data[pad_idx] = torch.zeros(embedding_dim)\n",
        "\n",
        "print(bi_rnn.embedding.weight.data)\n"
      ],
      "execution_count": 7,
      "outputs": [
        {
          "output_type": "stream",
          "text": [
            "torch.Size([25002, 100])\n",
            "tensor([[ 0.0000,  0.0000,  0.0000,  ...,  0.0000,  0.0000,  0.0000],\n",
            "        [ 0.0000,  0.0000,  0.0000,  ...,  0.0000,  0.0000,  0.0000],\n",
            "        [-0.0382, -0.2449,  0.7281,  ..., -0.1459,  0.8278,  0.2706],\n",
            "        ...,\n",
            "        [ 0.0944, -0.1442, -0.1443,  ..., -0.4783, -0.6824,  0.1593],\n",
            "        [ 0.2040, -0.8362, -0.6291,  ...,  0.1367,  0.2027,  0.0444],\n",
            "        [ 0.1547,  0.7479,  0.6203,  ...,  0.1398,  0.2157, -0.3645]],\n",
            "       device='cuda:0')\n"
          ],
          "name": "stdout"
        }
      ]
    },
    {
      "cell_type": "code",
      "metadata": {
        "id": "shp6fgvwmJLK",
        "outputId": "b79c2501-7602-4920-a38c-8305b0f01351",
        "colab": {
          "base_uri": "https://localhost:8080/",
          "height": 370
        }
      },
      "source": [
        "import torch.optim as optim\n",
        "\n",
        "optimizer = optim.Adam(bi_rnn.parameters())\n",
        "\n",
        "criterion = nn.BCEWithLogitsLoss()\n",
        "\n",
        "def train(model, iterator, optimizer, criterion):\n",
        "    \n",
        "    epoch_loss = 0\n",
        "    epoch_acc = 0\n",
        "    \n",
        "    model.train()\n",
        "    \n",
        "    for batch in iterator:\n",
        "        \n",
        "        optimizer.zero_grad()\n",
        "        \n",
        "        predictions = model(batch.text).squeeze(1)\n",
        "        \n",
        "        loss = criterion(predictions, batch.label)\n",
        "        \n",
        "        rounded_preds = torch.round(torch.sigmoid(predictions))\n",
        "        correct = (rounded_preds == batch.label).float() \n",
        "        \n",
        "        acc = correct.sum() / len(correct)\n",
        "        \n",
        "        loss.backward()\n",
        "        \n",
        "        optimizer.step()\n",
        "        \n",
        "        epoch_loss += loss.item()\n",
        "        epoch_acc += acc.item()\n",
        "        \n",
        "    return epoch_loss / len(iterator), epoch_acc / len(iterator)\n",
        "\n",
        "num_epochs = 10\n",
        "\n",
        "for epoch in range(num_epochs):\n",
        "     \n",
        "    train_loss, train_acc = train(bi_rnn, train_iterator, optimizer, criterion)\n",
        "    \n",
        "    print(f'| Epoch: {epoch+1:02} | Train Loss: {train_loss:.3f} | Train Acc: {train_acc*100:.2f}% |')\n"
      ],
      "execution_count": 12,
      "outputs": [
        {
          "output_type": "error",
          "ename": "TypeError",
          "evalue": "ignored",
          "traceback": [
            "\u001b[0;31m---------------------------------------------------------------------------\u001b[0m",
            "\u001b[0;31mTypeError\u001b[0m                                 Traceback (most recent call last)",
            "\u001b[0;32m<ipython-input-12-2ae67c12f3c3>\u001b[0m in \u001b[0;36m<module>\u001b[0;34m()\u001b[0m\n\u001b[1;32m     38\u001b[0m \u001b[0;32mfor\u001b[0m \u001b[0mepoch\u001b[0m \u001b[0;32min\u001b[0m \u001b[0mrange\u001b[0m\u001b[0;34m(\u001b[0m\u001b[0mnum_epochs\u001b[0m\u001b[0;34m)\u001b[0m\u001b[0;34m:\u001b[0m\u001b[0;34m\u001b[0m\u001b[0;34m\u001b[0m\u001b[0m\n\u001b[1;32m     39\u001b[0m \u001b[0;34m\u001b[0m\u001b[0m\n\u001b[0;32m---> 40\u001b[0;31m     \u001b[0mtrain_loss\u001b[0m\u001b[0;34m,\u001b[0m \u001b[0mtrain_acc\u001b[0m \u001b[0;34m=\u001b[0m \u001b[0mtrain\u001b[0m\u001b[0;34m(\u001b[0m\u001b[0mbi_rnn\u001b[0m\u001b[0;34m,\u001b[0m \u001b[0mtrain_iterator\u001b[0m\u001b[0;34m,\u001b[0m \u001b[0moptimizer\u001b[0m\u001b[0;34m,\u001b[0m \u001b[0mcriterion\u001b[0m\u001b[0;34m)\u001b[0m\u001b[0;34m\u001b[0m\u001b[0;34m\u001b[0m\u001b[0m\n\u001b[0m\u001b[1;32m     41\u001b[0m \u001b[0;34m\u001b[0m\u001b[0m\n\u001b[1;32m     42\u001b[0m     \u001b[0mprint\u001b[0m\u001b[0;34m(\u001b[0m\u001b[0;34mf'| Epoch: {epoch+1:02} | Train Loss: {train_loss:.3f} | Train Acc: {train_acc*100:.2f}% |'\u001b[0m\u001b[0;34m)\u001b[0m\u001b[0;34m\u001b[0m\u001b[0;34m\u001b[0m\u001b[0m\n",
            "\u001b[0;32m<ipython-input-12-2ae67c12f3c3>\u001b[0m in \u001b[0;36mtrain\u001b[0;34m(model, iterator, optimizer, criterion)\u001b[0m\n\u001b[1;32m     16\u001b[0m         \u001b[0moptimizer\u001b[0m\u001b[0;34m.\u001b[0m\u001b[0mzero_grad\u001b[0m\u001b[0;34m(\u001b[0m\u001b[0;34m)\u001b[0m\u001b[0;34m\u001b[0m\u001b[0;34m\u001b[0m\u001b[0m\n\u001b[1;32m     17\u001b[0m \u001b[0;34m\u001b[0m\u001b[0m\n\u001b[0;32m---> 18\u001b[0;31m         \u001b[0mpredictions\u001b[0m \u001b[0;34m=\u001b[0m \u001b[0mmodel\u001b[0m\u001b[0;34m(\u001b[0m\u001b[0mbatch\u001b[0m\u001b[0;34m.\u001b[0m\u001b[0mtext\u001b[0m\u001b[0;34m)\u001b[0m\u001b[0;34m\u001b[0m\u001b[0;34m\u001b[0m\u001b[0m\n\u001b[0m\u001b[1;32m     19\u001b[0m \u001b[0;34m\u001b[0m\u001b[0m\n\u001b[1;32m     20\u001b[0m         \u001b[0mloss\u001b[0m \u001b[0;34m=\u001b[0m \u001b[0mcriterion\u001b[0m\u001b[0;34m(\u001b[0m\u001b[0mpredictions\u001b[0m\u001b[0;34m,\u001b[0m \u001b[0mbatch\u001b[0m\u001b[0;34m.\u001b[0m\u001b[0mlabel\u001b[0m\u001b[0;34m)\u001b[0m\u001b[0;34m\u001b[0m\u001b[0;34m\u001b[0m\u001b[0m\n",
            "\u001b[0;32m/usr/local/lib/python3.6/dist-packages/torch/nn/modules/module.py\u001b[0m in \u001b[0;36m_call_impl\u001b[0;34m(self, *input, **kwargs)\u001b[0m\n\u001b[1;32m    725\u001b[0m             \u001b[0mresult\u001b[0m \u001b[0;34m=\u001b[0m \u001b[0mself\u001b[0m\u001b[0;34m.\u001b[0m\u001b[0m_slow_forward\u001b[0m\u001b[0;34m(\u001b[0m\u001b[0;34m*\u001b[0m\u001b[0minput\u001b[0m\u001b[0;34m,\u001b[0m \u001b[0;34m**\u001b[0m\u001b[0mkwargs\u001b[0m\u001b[0;34m)\u001b[0m\u001b[0;34m\u001b[0m\u001b[0;34m\u001b[0m\u001b[0m\n\u001b[1;32m    726\u001b[0m         \u001b[0;32melse\u001b[0m\u001b[0;34m:\u001b[0m\u001b[0;34m\u001b[0m\u001b[0;34m\u001b[0m\u001b[0m\n\u001b[0;32m--> 727\u001b[0;31m             \u001b[0mresult\u001b[0m \u001b[0;34m=\u001b[0m \u001b[0mself\u001b[0m\u001b[0;34m.\u001b[0m\u001b[0mforward\u001b[0m\u001b[0;34m(\u001b[0m\u001b[0;34m*\u001b[0m\u001b[0minput\u001b[0m\u001b[0;34m,\u001b[0m \u001b[0;34m**\u001b[0m\u001b[0mkwargs\u001b[0m\u001b[0;34m)\u001b[0m\u001b[0;34m\u001b[0m\u001b[0;34m\u001b[0m\u001b[0m\n\u001b[0m\u001b[1;32m    728\u001b[0m         for hook in itertools.chain(\n\u001b[1;32m    729\u001b[0m                 \u001b[0m_global_forward_hooks\u001b[0m\u001b[0;34m.\u001b[0m\u001b[0mvalues\u001b[0m\u001b[0;34m(\u001b[0m\u001b[0;34m)\u001b[0m\u001b[0;34m,\u001b[0m\u001b[0;34m\u001b[0m\u001b[0;34m\u001b[0m\u001b[0m\n",
            "\u001b[0;32m<ipython-input-2-ae56372f3d82>\u001b[0m in \u001b[0;36mforward\u001b[0;34m(self, text)\u001b[0m\n\u001b[1;32m     20\u001b[0m     \u001b[0;32mdef\u001b[0m \u001b[0mforward\u001b[0m\u001b[0;34m(\u001b[0m\u001b[0mself\u001b[0m\u001b[0;34m,\u001b[0m \u001b[0mtext\u001b[0m\u001b[0;34m)\u001b[0m\u001b[0;34m:\u001b[0m\u001b[0;34m\u001b[0m\u001b[0;34m\u001b[0m\u001b[0m\n\u001b[1;32m     21\u001b[0m \u001b[0;34m\u001b[0m\u001b[0m\n\u001b[0;32m---> 22\u001b[0;31m         \u001b[0membedded\u001b[0m \u001b[0;34m=\u001b[0m \u001b[0mself\u001b[0m\u001b[0;34m.\u001b[0m\u001b[0mdropout\u001b[0m\u001b[0;34m(\u001b[0m\u001b[0mself\u001b[0m\u001b[0;34m.\u001b[0m\u001b[0membedding\u001b[0m\u001b[0;34m(\u001b[0m\u001b[0mtext\u001b[0m\u001b[0;34m)\u001b[0m\u001b[0;34m)\u001b[0m\u001b[0;34m\u001b[0m\u001b[0;34m\u001b[0m\u001b[0m\n\u001b[0m\u001b[1;32m     23\u001b[0m \u001b[0;34m\u001b[0m\u001b[0m\n\u001b[1;32m     24\u001b[0m         \u001b[0moutput\u001b[0m\u001b[0;34m,\u001b[0m \u001b[0mhidden\u001b[0m \u001b[0;34m=\u001b[0m \u001b[0mself\u001b[0m\u001b[0;34m.\u001b[0m\u001b[0mrnn\u001b[0m\u001b[0;34m(\u001b[0m\u001b[0membedded\u001b[0m\u001b[0;34m)\u001b[0m\u001b[0;34m\u001b[0m\u001b[0;34m\u001b[0m\u001b[0m\n",
            "\u001b[0;32m/usr/local/lib/python3.6/dist-packages/torch/nn/modules/module.py\u001b[0m in \u001b[0;36m_call_impl\u001b[0;34m(self, *input, **kwargs)\u001b[0m\n\u001b[1;32m    725\u001b[0m             \u001b[0mresult\u001b[0m \u001b[0;34m=\u001b[0m \u001b[0mself\u001b[0m\u001b[0;34m.\u001b[0m\u001b[0m_slow_forward\u001b[0m\u001b[0;34m(\u001b[0m\u001b[0;34m*\u001b[0m\u001b[0minput\u001b[0m\u001b[0;34m,\u001b[0m \u001b[0;34m**\u001b[0m\u001b[0mkwargs\u001b[0m\u001b[0;34m)\u001b[0m\u001b[0;34m\u001b[0m\u001b[0;34m\u001b[0m\u001b[0m\n\u001b[1;32m    726\u001b[0m         \u001b[0;32melse\u001b[0m\u001b[0;34m:\u001b[0m\u001b[0;34m\u001b[0m\u001b[0;34m\u001b[0m\u001b[0m\n\u001b[0;32m--> 727\u001b[0;31m             \u001b[0mresult\u001b[0m \u001b[0;34m=\u001b[0m \u001b[0mself\u001b[0m\u001b[0;34m.\u001b[0m\u001b[0mforward\u001b[0m\u001b[0;34m(\u001b[0m\u001b[0;34m*\u001b[0m\u001b[0minput\u001b[0m\u001b[0;34m,\u001b[0m \u001b[0;34m**\u001b[0m\u001b[0mkwargs\u001b[0m\u001b[0;34m)\u001b[0m\u001b[0;34m\u001b[0m\u001b[0;34m\u001b[0m\u001b[0m\n\u001b[0m\u001b[1;32m    728\u001b[0m         for hook in itertools.chain(\n\u001b[1;32m    729\u001b[0m                 \u001b[0m_global_forward_hooks\u001b[0m\u001b[0;34m.\u001b[0m\u001b[0mvalues\u001b[0m\u001b[0;34m(\u001b[0m\u001b[0;34m)\u001b[0m\u001b[0;34m,\u001b[0m\u001b[0;34m\u001b[0m\u001b[0;34m\u001b[0m\u001b[0m\n",
            "\u001b[0;32m/usr/local/lib/python3.6/dist-packages/torch/nn/modules/sparse.py\u001b[0m in \u001b[0;36mforward\u001b[0;34m(self, input)\u001b[0m\n\u001b[1;32m    124\u001b[0m         return F.embedding(\n\u001b[1;32m    125\u001b[0m             \u001b[0minput\u001b[0m\u001b[0;34m,\u001b[0m \u001b[0mself\u001b[0m\u001b[0;34m.\u001b[0m\u001b[0mweight\u001b[0m\u001b[0;34m,\u001b[0m \u001b[0mself\u001b[0m\u001b[0;34m.\u001b[0m\u001b[0mpadding_idx\u001b[0m\u001b[0;34m,\u001b[0m \u001b[0mself\u001b[0m\u001b[0;34m.\u001b[0m\u001b[0mmax_norm\u001b[0m\u001b[0;34m,\u001b[0m\u001b[0;34m\u001b[0m\u001b[0;34m\u001b[0m\u001b[0m\n\u001b[0;32m--> 126\u001b[0;31m             self.norm_type, self.scale_grad_by_freq, self.sparse)\n\u001b[0m\u001b[1;32m    127\u001b[0m \u001b[0;34m\u001b[0m\u001b[0m\n\u001b[1;32m    128\u001b[0m     \u001b[0;32mdef\u001b[0m \u001b[0mextra_repr\u001b[0m\u001b[0;34m(\u001b[0m\u001b[0mself\u001b[0m\u001b[0;34m)\u001b[0m \u001b[0;34m->\u001b[0m \u001b[0mstr\u001b[0m\u001b[0;34m:\u001b[0m\u001b[0;34m\u001b[0m\u001b[0;34m\u001b[0m\u001b[0m\n",
            "\u001b[0;32m/usr/local/lib/python3.6/dist-packages/torch/nn/functional.py\u001b[0m in \u001b[0;36membedding\u001b[0;34m(input, weight, padding_idx, max_norm, norm_type, scale_grad_by_freq, sparse)\u001b[0m\n\u001b[1;32m   1850\u001b[0m         \u001b[0;31m# remove once script supports set_grad_enabled\u001b[0m\u001b[0;34m\u001b[0m\u001b[0;34m\u001b[0m\u001b[0;34m\u001b[0m\u001b[0m\n\u001b[1;32m   1851\u001b[0m         \u001b[0m_no_grad_embedding_renorm_\u001b[0m\u001b[0;34m(\u001b[0m\u001b[0mweight\u001b[0m\u001b[0;34m,\u001b[0m \u001b[0minput\u001b[0m\u001b[0;34m,\u001b[0m \u001b[0mmax_norm\u001b[0m\u001b[0;34m,\u001b[0m \u001b[0mnorm_type\u001b[0m\u001b[0;34m)\u001b[0m\u001b[0;34m\u001b[0m\u001b[0;34m\u001b[0m\u001b[0m\n\u001b[0;32m-> 1852\u001b[0;31m     \u001b[0;32mreturn\u001b[0m \u001b[0mtorch\u001b[0m\u001b[0;34m.\u001b[0m\u001b[0membedding\u001b[0m\u001b[0;34m(\u001b[0m\u001b[0mweight\u001b[0m\u001b[0;34m,\u001b[0m \u001b[0minput\u001b[0m\u001b[0;34m,\u001b[0m \u001b[0mpadding_idx\u001b[0m\u001b[0;34m,\u001b[0m \u001b[0mscale_grad_by_freq\u001b[0m\u001b[0;34m,\u001b[0m \u001b[0msparse\u001b[0m\u001b[0;34m)\u001b[0m\u001b[0;34m\u001b[0m\u001b[0;34m\u001b[0m\u001b[0m\n\u001b[0m\u001b[1;32m   1853\u001b[0m \u001b[0;34m\u001b[0m\u001b[0m\n\u001b[1;32m   1854\u001b[0m \u001b[0;34m\u001b[0m\u001b[0m\n",
            "\u001b[0;31mTypeError\u001b[0m: embedding(): argument 'indices' (position 2) must be Tensor, not tuple"
          ]
        }
      ]
    },
    {
      "cell_type": "code",
      "metadata": {
        "id": "2eVPzsurmmld"
      },
      "source": [
        ""
      ],
      "execution_count": null,
      "outputs": []
    }
  ]
}