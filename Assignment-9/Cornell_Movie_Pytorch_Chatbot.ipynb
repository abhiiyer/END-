{
  "nbformat": 4,
  "nbformat_minor": 0,
  "metadata": {
    "kernelspec": {
      "display_name": "Python 3",
      "language": "python",
      "name": "python3"
    },
    "language_info": {
      "codemirror_mode": {
        "name": "ipython",
        "version": 3
      },
      "file_extension": ".py",
      "mimetype": "text/x-python",
      "name": "python",
      "nbconvert_exporter": "python",
      "pygments_lexer": "ipython3",
      "version": "3.8.5"
    },
    "colab": {
      "name": "Cornell_Movie_Pytorch-Chatbot.ipynb",
      "provenance": [],
      "collapsed_sections": [
        "fV8tvl-1vSH0"
      ],
      "include_colab_link": true
    }
  },
  "cells": [
    {
      "cell_type": "markdown",
      "metadata": {
        "id": "view-in-github",
        "colab_type": "text"
      },
      "source": [
        "<a href=\"https://colab.research.google.com/github/abhiiyer/END-/blob/main/Assignment-9/Cornell_Movie_Pytorch_Chatbot.ipynb\" target=\"_parent\"><img src=\"https://colab.research.google.com/assets/colab-badge.svg\" alt=\"Open In Colab\"/></a>"
      ]
    },
    {
      "cell_type": "code",
      "metadata": {
        "id": "ASxjFDzPvSF9"
      },
      "source": [
        "import torch \n",
        "import torch.nn as nn\n",
        "from torch import optim\n",
        "import torch.nn.functional as F\n",
        "import csv\n",
        "import random\n",
        "import re\n",
        "import os\n",
        "import unicodedata\n",
        "import codecs\n",
        "import itertools"
      ],
      "execution_count": null,
      "outputs": []
    },
    {
      "cell_type": "code",
      "metadata": {
        "id": "_eu8jveRvSGB"
      },
      "source": [
        "CUDA = torch.cuda.is_available()\n",
        "device = torch.device('cuda' if CUDA else 'cpu')"
      ],
      "execution_count": null,
      "outputs": []
    },
    {
      "cell_type": "code",
      "metadata": {
        "id": "j6ufVPN8vSGE",
        "colab": {
          "base_uri": "https://localhost:8080/"
        },
        "outputId": "330d0ab2-043b-4962-a395-60cc1741ba76"
      },
      "source": [
        "CUDA"
      ],
      "execution_count": null,
      "outputs": [
        {
          "output_type": "execute_result",
          "data": {
            "text/plain": [
              "False"
            ]
          },
          "metadata": {
            "tags": []
          },
          "execution_count": 3
        }
      ]
    },
    {
      "cell_type": "markdown",
      "metadata": {
        "id": "dfM7PiTAvSGI"
      },
      "source": [
        "# Part 1: Data Preprocessing"
      ]
    },
    {
      "cell_type": "code",
      "metadata": {
        "id": "Dad66tMszFPS",
        "colab": {
          "base_uri": "https://localhost:8080/"
        },
        "outputId": "bf766a28-c6dd-427d-c7e5-c80c1a12384c"
      },
      "source": [
        "!wget \"http://www.cs.cornell.edu/~cristian/data/cornell_movie_dialogs_corpus.zip\""
      ],
      "execution_count": null,
      "outputs": [
        {
          "output_type": "stream",
          "text": [
            "--2020-12-27 11:45:22--  http://www.cs.cornell.edu/~cristian/data/cornell_movie_dialogs_corpus.zip\n",
            "Resolving www.cs.cornell.edu (www.cs.cornell.edu)... 132.236.207.36\n",
            "Connecting to www.cs.cornell.edu (www.cs.cornell.edu)|132.236.207.36|:80... connected.\n",
            "HTTP request sent, awaiting response... 200 OK\n",
            "Length: 9916637 (9.5M) [application/zip]\n",
            "Saving to: ‘cornell_movie_dialogs_corpus.zip’\n",
            "\n",
            "cornell_movie_dialo 100%[===================>]   9.46M  25.8MB/s    in 0.4s    \n",
            "\n",
            "2020-12-27 11:45:23 (25.8 MB/s) - ‘cornell_movie_dialogs_corpus.zip’ saved [9916637/9916637]\n",
            "\n"
          ],
          "name": "stdout"
        }
      ]
    },
    {
      "cell_type": "code",
      "metadata": {
        "id": "Vc1FM6Kvz3cJ",
        "colab": {
          "base_uri": "https://localhost:8080/"
        },
        "outputId": "80e8b03d-5810-44a0-c264-9e4233c972bc"
      },
      "source": [
        "!unzip 'cornell_movie_dialogs_corpus.zip'"
      ],
      "execution_count": null,
      "outputs": [
        {
          "output_type": "stream",
          "text": [
            "Archive:  cornell_movie_dialogs_corpus.zip\n",
            "   creating: cornell movie-dialogs corpus/\n",
            "  inflating: cornell movie-dialogs corpus/.DS_Store  \n",
            "   creating: __MACOSX/\n",
            "   creating: __MACOSX/cornell movie-dialogs corpus/\n",
            "  inflating: __MACOSX/cornell movie-dialogs corpus/._.DS_Store  \n",
            "  inflating: cornell movie-dialogs corpus/chameleons.pdf  \n",
            "  inflating: __MACOSX/cornell movie-dialogs corpus/._chameleons.pdf  \n",
            "  inflating: cornell movie-dialogs corpus/movie_characters_metadata.txt  \n",
            "  inflating: cornell movie-dialogs corpus/movie_conversations.txt  \n",
            "  inflating: cornell movie-dialogs corpus/movie_lines.txt  \n",
            "  inflating: cornell movie-dialogs corpus/movie_titles_metadata.txt  \n",
            "  inflating: cornell movie-dialogs corpus/raw_script_urls.txt  \n",
            "  inflating: cornell movie-dialogs corpus/README.txt  \n",
            "  inflating: __MACOSX/cornell movie-dialogs corpus/._README.txt  \n"
          ],
          "name": "stdout"
        }
      ]
    },
    {
      "cell_type": "code",
      "metadata": {
        "id": "4cPbfIGrvSGJ"
      },
      "source": [
        "lines_filepath = os.path.join('cornell movie-dialogs corpus', 'movie_lines.txt')\n",
        "conv_filepath = os.path.join('cornell movie-dialogs corpus', 'movie_conversations.txt')"
      ],
      "execution_count": null,
      "outputs": []
    },
    {
      "cell_type": "code",
      "metadata": {
        "id": "Oa_62z5QvSGM",
        "colab": {
          "base_uri": "https://localhost:8080/"
        },
        "outputId": "67f14d60-a880-4b03-84fd-5ef4eb5d2e2e"
      },
      "source": [
        "# Visualize some lines\n",
        "with open(lines_filepath, 'rb') as file:\n",
        "    lines = file.readlines()\n",
        "for line in lines[:8]:\n",
        "    print(line.strip())"
      ],
      "execution_count": null,
      "outputs": [
        {
          "output_type": "stream",
          "text": [
            "b'L1045 +++$+++ u0 +++$+++ m0 +++$+++ BIANCA +++$+++ They do not!'\n",
            "b'L1044 +++$+++ u2 +++$+++ m0 +++$+++ CAMERON +++$+++ They do to!'\n",
            "b'L985 +++$+++ u0 +++$+++ m0 +++$+++ BIANCA +++$+++ I hope so.'\n",
            "b'L984 +++$+++ u2 +++$+++ m0 +++$+++ CAMERON +++$+++ She okay?'\n",
            "b\"L925 +++$+++ u0 +++$+++ m0 +++$+++ BIANCA +++$+++ Let's go.\"\n",
            "b'L924 +++$+++ u2 +++$+++ m0 +++$+++ CAMERON +++$+++ Wow'\n",
            "b\"L872 +++$+++ u0 +++$+++ m0 +++$+++ BIANCA +++$+++ Okay -- you're gonna need to learn how to lie.\"\n",
            "b'L871 +++$+++ u2 +++$+++ m0 +++$+++ CAMERON +++$+++ No'\n"
          ],
          "name": "stdout"
        }
      ]
    },
    {
      "cell_type": "code",
      "metadata": {
        "id": "8SJEC4jzvSGP"
      },
      "source": [
        "# Split each line of the file into a dictionary of fields (lineid, characterid, movieID, character, text)\n",
        "line_fields = ['lineID', 'characterID', 'movieID','character', 'text']\n",
        "lines = {}\n",
        "with open(lines_filepath, 'r', encoding='iso-8859-1') as f:\n",
        "    for line in f:\n",
        "        values = line.split(' +++$+++ ')\n",
        "        # Extract fields\n",
        "        lineObj = {}\n",
        "        for i, field in enumerate(line_fields):\n",
        "            lineObj[field] = values[i]\n",
        "        lines[lineObj['lineID']] = lineObj"
      ],
      "execution_count": null,
      "outputs": []
    },
    {
      "cell_type": "code",
      "metadata": {
        "id": "R7BsGD64vSGT",
        "colab": {
          "base_uri": "https://localhost:8080/"
        },
        "outputId": "930f284d-f140-45e1-965c-5c19bc95abd8"
      },
      "source": [
        "dict(itertools.islice(lines.items(), 3)) # dsiplays first 3 items from dictionary"
      ],
      "execution_count": null,
      "outputs": [
        {
          "output_type": "execute_result",
          "data": {
            "text/plain": [
              "{'L1044': {'character': 'CAMERON',\n",
              "  'characterID': 'u2',\n",
              "  'lineID': 'L1044',\n",
              "  'movieID': 'm0',\n",
              "  'text': 'They do to!\\n'},\n",
              " 'L1045': {'character': 'BIANCA',\n",
              "  'characterID': 'u0',\n",
              "  'lineID': 'L1045',\n",
              "  'movieID': 'm0',\n",
              "  'text': 'They do not!\\n'},\n",
              " 'L985': {'character': 'BIANCA',\n",
              "  'characterID': 'u0',\n",
              "  'lineID': 'L985',\n",
              "  'movieID': 'm0',\n",
              "  'text': 'I hope so.\\n'}}"
            ]
          },
          "metadata": {
            "tags": []
          },
          "execution_count": 9
        }
      ]
    },
    {
      "cell_type": "code",
      "metadata": {
        "id": "vVKXa-gNvSGY"
      },
      "source": [
        "# Split each line of the file into a dictionary of fields (lineid, characterid, movieID, character, text)\n",
        "conv_fields = ['character1ID', 'character2ID','movieID','utteranceIDs']\n",
        "conversations = []\n",
        "with open(conv_filepath, 'r', encoding='iso-8859-1') as f:\n",
        "    for line in f:\n",
        "        values = line.split(' +++$+++ ')\n",
        "        \n",
        "        # Extract fields\n",
        "        convObj = {}\n",
        "        for i, field in enumerate(conv_fields):\n",
        "            convObj[field] = values[i]\n",
        "        \n",
        "        # Convert string result from split to list \n",
        "        lineIds = eval(convObj['utteranceIDs'])\n",
        "        \n",
        "        #Reassemble lines\n",
        "        convObj['lines'] = []\n",
        "        for lineId in lineIds:\n",
        "            convObj['lines'].append(lines[lineId])\n",
        "        \n",
        "        conversations.append(convObj)"
      ],
      "execution_count": null,
      "outputs": []
    },
    {
      "cell_type": "code",
      "metadata": {
        "id": "8DMPgBc2vSGb"
      },
      "source": [
        "# Extract question answer pair\n",
        "qa_pairs = []\n",
        "for conv in conversations:\n",
        "    #iterate over all lines in a conversation\n",
        "    for i in range(len(conv['lines'])-1):\n",
        "        inputLine = conv['lines'][i]['text'].strip()\n",
        "        targetLine = conv['lines'][i+1]['text'].strip()\n",
        "        # Filter wrong samples (if one of the lists is empty)\n",
        "        if inputLine and targetLine:\n",
        "            qa_pairs.append([inputLine, targetLine])"
      ],
      "execution_count": null,
      "outputs": []
    },
    {
      "cell_type": "code",
      "metadata": {
        "id": "i7W9_0qSvSGd",
        "colab": {
          "base_uri": "https://localhost:8080/"
        },
        "outputId": "ce253e95-536d-49a5-eaac-7d13644a3413"
      },
      "source": [
        "len(qa_pairs)"
      ],
      "execution_count": null,
      "outputs": [
        {
          "output_type": "execute_result",
          "data": {
            "text/plain": [
              "221282"
            ]
          },
          "metadata": {
            "tags": []
          },
          "execution_count": 12
        }
      ]
    },
    {
      "cell_type": "code",
      "metadata": {
        "id": "OQy0lVrIvSGh",
        "colab": {
          "base_uri": "https://localhost:8080/"
        },
        "outputId": "3156aeb4-3d8d-4b60-c39b-a38e1de7974c"
      },
      "source": [
        "# Writing the Question answer pairs to a file\n",
        "datafile = os.path.join('cornell movie-dialogs corpus', 'formatted_movie_lines.txt')\n",
        "delimiter = '\\t'\n",
        "#unescape the delimiter\n",
        "delimiter = str(codecs.decode(delimiter, 'unicode_escape'))\n",
        "\n",
        "#write new csv file\n",
        "print('\\nWriting newly formatted file')\n",
        "with open(datafile, 'w', encoding='utf-8') as f:\n",
        "    writer = csv.writer(f, delimiter=delimiter)\n",
        "    for pair in qa_pairs:\n",
        "        writer.writerow(pair)\n",
        "print('Done writing to a file')"
      ],
      "execution_count": null,
      "outputs": [
        {
          "output_type": "stream",
          "text": [
            "\n",
            "Writing newly formatted file\n",
            "Done writing to a file\n"
          ],
          "name": "stdout"
        }
      ]
    },
    {
      "cell_type": "code",
      "metadata": {
        "id": "VMUfDcoUvSGm",
        "colab": {
          "base_uri": "https://localhost:8080/"
        },
        "outputId": "37ce9659-016b-4eaf-d7a3-5376f2cf2948"
      },
      "source": [
        "# Visualize some lines\n",
        "datafile = os.path.join('cornell movie-dialogs corpus', 'formatted_movie_lines.txt')\n",
        "with open(datafile, 'r') as file:\n",
        "    lines = file.readlines()\n",
        "for line in lines[:8]:\n",
        "    print(line)"
      ],
      "execution_count": null,
      "outputs": [
        {
          "output_type": "stream",
          "text": [
            "Can we make this quick?  Roxanne Korrine and Andrew Barrett are having an incredibly horrendous public break- up on the quad.  Again.\tWell, I thought we'd start with pronunciation, if that's okay with you.\n",
            "\n",
            "Well, I thought we'd start with pronunciation, if that's okay with you.\tNot the hacking and gagging and spitting part.  Please.\n",
            "\n",
            "Not the hacking and gagging and spitting part.  Please.\tOkay... then how 'bout we try out some French cuisine.  Saturday?  Night?\n",
            "\n",
            "You're asking me out.  That's so cute. What's your name again?\tForget it.\n",
            "\n",
            "No, no, it's my fault -- we didn't have a proper introduction ---\tCameron.\n",
            "\n",
            "Cameron.\tThe thing is, Cameron -- I'm at the mercy of a particularly hideous breed of loser.  My sister.  I can't date until she does.\n",
            "\n",
            "The thing is, Cameron -- I'm at the mercy of a particularly hideous breed of loser.  My sister.  I can't date until she does.\tSeems like she could get a date easy enough...\n",
            "\n",
            "Why?\tUnsolved mystery.  She used to be really popular when she started high school, then it was just like she got sick of it or something.\n",
            "\n"
          ],
          "name": "stdout"
        }
      ]
    },
    {
      "cell_type": "code",
      "metadata": {
        "id": "hNVWDGJbvSGq"
      },
      "source": [
        "PAD_token = 0 #used for padding\n",
        "SOS_token = 1 #start of sentence <START>\n",
        "EOS_token = 2 # End of sentence token <END>\n",
        "\n",
        "class Vocabulary:\n",
        "    def __init__(self, name):\n",
        "        self.name = name\n",
        "        self.word2index = {}\n",
        "        self.word2count = {}\n",
        "        self.index2word = {PAD_token:'PAD', SOS_token:'SOS', EOS_token:'EOS'}\n",
        "        self.num_words = 3 #count SOS, EOS, PAD\n",
        "    \n",
        "    def addSentence(self, sentence):\n",
        "        for word in sentence.split(' '):\n",
        "            self.addWord(word)\n",
        "    \n",
        "    def addWord(self, word):\n",
        "        if word not in self.word2index:\n",
        "            self.word2index[word] = self.num_words\n",
        "            self.word2count[word] = 1\n",
        "            self.index2word[self.num_words] = word\n",
        "            self.num_words +=1\n",
        "        else:\n",
        "            self.word2count[word] += 1\n",
        "        \n",
        "    def trim(self, min_count):\n",
        "        keep_words = []\n",
        "        for k,v in self.word2count.items():\n",
        "            if v >= min_count:\n",
        "                keep_words.append(k)\n",
        "        print('Keep_words {} / {} = {:.4f}'.format(len(keep_words),len(self.word2index),len(keep_words)/len(self.word2index)))\n",
        "        \n",
        "        # Reinitialize dictionaries\n",
        "        self.word2index = {}\n",
        "        self.word2count = {}\n",
        "        self.index2word = {PAD_token:'PAD', SOS_token:'SOS', EOS_token:'EOS'}\n",
        "        self.num_words = 3 #count SOS, EOS, PAD\n",
        "        \n",
        "        for word in keep_words:\n",
        "            self.addWord(word)"
      ],
      "execution_count": null,
      "outputs": []
    },
    {
      "cell_type": "code",
      "metadata": {
        "id": "E1fJiSM_vSGt"
      },
      "source": [
        "# Turn a Unicode string to plain ASCII\n",
        "def unicodeToAscii(s):\n",
        "    return ''.join(c for c in unicodedata.normalize('NFD', s) if unicodedata.category(c) != 'Mn')"
      ],
      "execution_count": null,
      "outputs": []
    },
    {
      "cell_type": "code",
      "metadata": {
        "id": "UO2UhglkvSGx",
        "colab": {
          "base_uri": "https://localhost:8080/",
          "height": 35
        },
        "outputId": "b0ea1fce-9d2a-4c9a-ef9e-91b31731aa49"
      },
      "source": [
        "# Test the function\n",
        "unicodeToAscii('Montréal')"
      ],
      "execution_count": null,
      "outputs": [
        {
          "output_type": "execute_result",
          "data": {
            "application/vnd.google.colaboratory.intrinsic+json": {
              "type": "string"
            },
            "text/plain": [
              "'Montreal'"
            ]
          },
          "metadata": {
            "tags": []
          },
          "execution_count": 17
        }
      ]
    },
    {
      "cell_type": "code",
      "metadata": {
        "id": "i9-9LQINvSGz"
      },
      "source": [
        "# String processing\n",
        "def normalizeString(s):\n",
        "    s = unicodeToAscii(s.lower().strip())\n",
        "    # Replace symbols with a white space + symbol\n",
        "    s = re.sub(r'([.!?])', r' \\1', s)\n",
        "    # Remove non-sequence characters\n",
        "    s = re.sub(r'[^a-zA-Z.!?]+', r' ', s)\n",
        "    # remove whitespaces\n",
        "    s = re.sub(r'\\s+', r' ', s).strip()\n",
        "    return s"
      ],
      "execution_count": null,
      "outputs": []
    },
    {
      "cell_type": "code",
      "metadata": {
        "id": "zyeWO8dQvSG2",
        "colab": {
          "base_uri": "https://localhost:8080/",
          "height": 35
        },
        "outputId": "fd12f440-075a-4715-ccbd-2e2550e7c563"
      },
      "source": [
        "# Test\n",
        "normalizeString('aaa243998!s\"s  df?? ? 1a')"
      ],
      "execution_count": null,
      "outputs": [
        {
          "output_type": "execute_result",
          "data": {
            "application/vnd.google.colaboratory.intrinsic+json": {
              "type": "string"
            },
            "text/plain": [
              "'aaa !s s df ? ? ? a'"
            ]
          },
          "metadata": {
            "tags": []
          },
          "execution_count": 19
        }
      ]
    },
    {
      "cell_type": "code",
      "metadata": {
        "id": "jmqBvzpKvSG9",
        "colab": {
          "base_uri": "https://localhost:8080/"
        },
        "outputId": "147e247f-2d5d-46f7-98f3-688107a96ed0"
      },
      "source": [
        "datafile = os.path.join('cornell movie-dialogs corpus', 'formatted_movie_lines.txt')\n",
        "# Read the file and split into lines\n",
        "print('Reading and processing file.....please wait')\n",
        "lines = open(datafile, encoding='utf-8').read().strip().split('\\n')\n",
        "#split every line into pairs and normalize\n",
        "pairs = [[normalizeString(s) for s in pair.split('\\t')] for  pair in lines]\n",
        "print('Done Reading!')\n",
        "voc = Vocabulary('cornell movie-dialogs corpus')"
      ],
      "execution_count": null,
      "outputs": [
        {
          "output_type": "stream",
          "text": [
            "Reading and processing file.....please wait\n",
            "Done Reading!\n"
          ],
          "name": "stdout"
        }
      ]
    },
    {
      "cell_type": "code",
      "metadata": {
        "id": "lmEFf6ugvSHA",
        "colab": {
          "base_uri": "https://localhost:8080/"
        },
        "outputId": "9f23d258-5521-4bc3-aef7-3309545bc987"
      },
      "source": [
        "pairs[:5]"
      ],
      "execution_count": null,
      "outputs": [
        {
          "output_type": "execute_result",
          "data": {
            "text/plain": [
              "[['can we make this quick ? roxanne korrine and andrew barrett are having an incredibly horrendous public break up on the quad . again .',\n",
              "  'well i thought we d start with pronunciation if that s okay with you .'],\n",
              " ['well i thought we d start with pronunciation if that s okay with you .',\n",
              "  'not the hacking and gagging and spitting part . please .'],\n",
              " ['not the hacking and gagging and spitting part . please .',\n",
              "  'okay . . . then how bout we try out some french cuisine . saturday ? night ?'],\n",
              " ['you re asking me out . that s so cute . what s your name again ?',\n",
              "  'forget it .'],\n",
              " ['no no it s my fault we didn t have a proper introduction', 'cameron .']]"
            ]
          },
          "metadata": {
            "tags": []
          },
          "execution_count": 21
        }
      ]
    },
    {
      "cell_type": "code",
      "metadata": {
        "id": "Qp6P92SKvSHD"
      },
      "source": [
        "# reutrns true if both sentences in a pair are under threshold\n",
        "MAX_LENGTH = 10\n",
        "def filterPair(p):\n",
        "    return len(p[0].split()) < MAX_LENGTH and len(p[1].split()) < MAX_LENGTH\n",
        "\n",
        "# filter pairs using filter pair condition\n",
        "def filterPairs(pairs):\n",
        "    return [pair for pair in pairs if filterPair(pair)]"
      ],
      "execution_count": null,
      "outputs": []
    },
    {
      "cell_type": "code",
      "metadata": {
        "id": "mAH97ECyvSHG",
        "colab": {
          "base_uri": "https://localhost:8080/"
        },
        "outputId": "d8609a47-62e6-453e-b972-6ff9afcaf700"
      },
      "source": [
        "pairs = [pair for pair in pairs if len(pair)>1]\n",
        "print(f'There are {len(pairs)} pairs/conversations in the dataset.')\n",
        "pairs = filterPairs(pairs)\n",
        "print(f'After filtering, there are {len(pairs)} pairs/conversations in the dataset')"
      ],
      "execution_count": null,
      "outputs": [
        {
          "output_type": "stream",
          "text": [
            "There are 221282 pairs/conversations in the dataset.\n",
            "After filtering, there are 64271 pairs/conversations in the dataset\n"
          ],
          "name": "stdout"
        }
      ]
    },
    {
      "cell_type": "code",
      "metadata": {
        "id": "T6f8qcYXvSHJ",
        "colab": {
          "base_uri": "https://localhost:8080/"
        },
        "outputId": "3594ef6b-e97a-4422-fb1f-8b07598a8886"
      },
      "source": [
        "for pair in pairs:\n",
        "    voc.addSentence(pair[0])\n",
        "    voc.addSentence(pair[1])\n",
        "print('Counted words:', voc.num_words)\n",
        "for pair in pairs[:10]:\n",
        "    print(pair)"
      ],
      "execution_count": null,
      "outputs": [
        {
          "output_type": "stream",
          "text": [
            "Counted words: 18008\n",
            "['there .', 'where ?']\n",
            "['you have my word . as a gentleman', 'you re sweet .']\n",
            "['hi .', 'looks like things worked out tonight huh ?']\n",
            "['you know chastity ?', 'i believe we share an art instructor']\n",
            "['have fun tonight ?', 'tons']\n",
            "['well no . . .', 'then that s all you had to say .']\n",
            "['then that s all you had to say .', 'but']\n",
            "['but', 'you always been this selfish ?']\n",
            "['do you listen to this crap ?', 'what crap ?']\n",
            "['what good stuff ?', 'the real you .']\n"
          ],
          "name": "stdout"
        }
      ]
    },
    {
      "cell_type": "code",
      "metadata": {
        "id": "TiBRoCZCvSHM",
        "colab": {
          "base_uri": "https://localhost:8080/"
        },
        "outputId": "c06e7fc1-869f-49c6-f713-6f7339a507e2"
      },
      "source": [
        "MIN_COUNT = 3 #minimum word count threshold for trimming\n",
        "\n",
        "def trimRareWords(voc, pairs, MIN_COUNT):\n",
        "    #Trim words used under the MIN_COUNT from the voc\n",
        "    voc.trim(MIN_COUNT)\n",
        "    #Filter out pairs with trimmed words\n",
        "    keep_pairs = []\n",
        "    for pair in pairs:\n",
        "        input_sentence = pair[0]\n",
        "        output_sentence = pair[1]\n",
        "        keep_input = True\n",
        "        keep_output = True\n",
        "        #check input sentence\n",
        "        for word in input_sentence.split():\n",
        "            if word not in voc.word2index:\n",
        "                keep_input = False\n",
        "                break\n",
        "        #check output sentence\n",
        "        for word in output_sentence.split():\n",
        "            if word not in voc.word2index:\n",
        "                keep_output = False\n",
        "                break\n",
        "        \n",
        "        if keep_input and keep_output:\n",
        "            keep_pairs.append(pair)\n",
        "        \n",
        "    print('Trimed from {} pairs to {}, {:.4f} of total'.format(len(pairs),len(keep_pairs),len(keep_pairs)/len(pairs)))\n",
        "    return keep_pairs\n",
        "    \n",
        "# Trim voc and pairs\n",
        "pairs = trimRareWords(voc, pairs, MIN_COUNT)"
      ],
      "execution_count": null,
      "outputs": [
        {
          "output_type": "stream",
          "text": [
            "Keep_words 7823 / 18005 = 0.4345\n",
            "Trimed from 64271 pairs to 53165, 0.8272 of total\n"
          ],
          "name": "stdout"
        }
      ]
    },
    {
      "cell_type": "markdown",
      "metadata": {
        "id": "NgMoFKuNvSHP"
      },
      "source": [
        "# Part 2: Data Preparation"
      ]
    },
    {
      "cell_type": "code",
      "metadata": {
        "id": "flBt7BpsvSHP"
      },
      "source": [
        "def indexesFromSentence(voc, sentence):\n",
        "    return [voc.word2index[word] for word in sentence.split()]+[EOS_token]"
      ],
      "execution_count": null,
      "outputs": []
    },
    {
      "cell_type": "code",
      "metadata": {
        "id": "SKP_VTQrvSHS",
        "colab": {
          "base_uri": "https://localhost:8080/"
        },
        "outputId": "abccd407-d42b-42cb-fbd5-11ae1a04dc17"
      },
      "source": [
        "#test\n",
        "indexesFromSentence(voc, pairs[1][0])"
      ],
      "execution_count": null,
      "outputs": [
        {
          "output_type": "execute_result",
          "data": {
            "text/plain": [
              "[7, 8, 9, 10, 4, 11, 12, 13, 2]"
            ]
          },
          "metadata": {
            "tags": []
          },
          "execution_count": 27
        }
      ]
    },
    {
      "cell_type": "code",
      "metadata": {
        "id": "EFozD9C-vSHY",
        "colab": {
          "base_uri": "https://localhost:8080/"
        },
        "outputId": "c872bcbf-c4e7-4a2f-d896-5087f9c0c518"
      },
      "source": [
        "inp = []\n",
        "out = []\n",
        "for pair in pairs[:10]:\n",
        "    inp.append(pair[0])\n",
        "    out.append(pair[1])\n",
        "print(inp)\n",
        "print(len(inp))\n",
        "indexes = [indexesFromSentence(voc, sent) for sent in inp]\n",
        "indexes"
      ],
      "execution_count": null,
      "outputs": [
        {
          "output_type": "stream",
          "text": [
            "['there .', 'you have my word . as a gentleman', 'hi .', 'have fun tonight ?', 'well no . . .', 'then that s all you had to say .', 'but', 'do you listen to this crap ?', 'what good stuff ?', 'wow']\n",
            "10\n"
          ],
          "name": "stdout"
        },
        {
          "output_type": "execute_result",
          "data": {
            "text/plain": [
              "[[3, 4, 2],\n",
              " [7, 8, 9, 10, 4, 11, 12, 13, 2],\n",
              " [16, 4, 2],\n",
              " [8, 31, 22, 6, 2],\n",
              " [33, 34, 4, 4, 4, 2],\n",
              " [35, 36, 37, 38, 7, 39, 40, 41, 4, 2],\n",
              " [42, 2],\n",
              " [47, 7, 48, 40, 45, 49, 6, 2],\n",
              " [50, 51, 52, 6, 2],\n",
              " [58, 2]]"
            ]
          },
          "metadata": {
            "tags": []
          },
          "execution_count": 28
        }
      ]
    },
    {
      "cell_type": "code",
      "metadata": {
        "id": "u_w2nTvUvSHc"
      },
      "source": [
        "def ZeroPadding(l, fillvalue=0):\n",
        "    return list(itertools.zip_longest(*l, fillvalue=fillvalue))"
      ],
      "execution_count": null,
      "outputs": []
    },
    {
      "cell_type": "code",
      "metadata": {
        "id": "jT3D5kLqvSHf",
        "colab": {
          "base_uri": "https://localhost:8080/"
        },
        "outputId": "fdc2ff6c-9416-4139-9fe2-d70ef3746b21"
      },
      "source": [
        "leng = [len(ind) for ind in indexes]\n",
        "max(leng)"
      ],
      "execution_count": null,
      "outputs": [
        {
          "output_type": "execute_result",
          "data": {
            "text/plain": [
              "10"
            ]
          },
          "metadata": {
            "tags": []
          },
          "execution_count": 30
        }
      ]
    },
    {
      "cell_type": "code",
      "metadata": {
        "id": "QCR_igrUvSHh",
        "colab": {
          "base_uri": "https://localhost:8080/"
        },
        "outputId": "8f9199e2-7ed9-4b1b-927c-d8deeddacbd9"
      },
      "source": [
        "# Test\n",
        "test_result = ZeroPadding(indexes)\n",
        "print(len(test_result))\n",
        "test_result"
      ],
      "execution_count": null,
      "outputs": [
        {
          "output_type": "stream",
          "text": [
            "10\n"
          ],
          "name": "stdout"
        },
        {
          "output_type": "execute_result",
          "data": {
            "text/plain": [
              "[(3, 7, 16, 8, 33, 35, 42, 47, 50, 58),\n",
              " (4, 8, 4, 31, 34, 36, 2, 7, 51, 2),\n",
              " (2, 9, 2, 22, 4, 37, 0, 48, 52, 0),\n",
              " (0, 10, 0, 6, 4, 38, 0, 40, 6, 0),\n",
              " (0, 4, 0, 2, 4, 7, 0, 45, 2, 0),\n",
              " (0, 11, 0, 0, 2, 39, 0, 49, 0, 0),\n",
              " (0, 12, 0, 0, 0, 40, 0, 6, 0, 0),\n",
              " (0, 13, 0, 0, 0, 41, 0, 2, 0, 0),\n",
              " (0, 2, 0, 0, 0, 4, 0, 0, 0, 0),\n",
              " (0, 0, 0, 0, 0, 2, 0, 0, 0, 0)]"
            ]
          },
          "metadata": {
            "tags": []
          },
          "execution_count": 31
        }
      ]
    },
    {
      "cell_type": "code",
      "metadata": {
        "id": "dDYcp5kUvSHk"
      },
      "source": [
        "def binaryMatrix(l, value=0):\n",
        "    m = []\n",
        "    for i, seq in enumerate(l):\n",
        "        m.append([])\n",
        "        for token in seq:\n",
        "            if token == PAD_token:\n",
        "                m[i].append(0)\n",
        "            else:\n",
        "                m[i].append(1)\n",
        "    return m"
      ],
      "execution_count": null,
      "outputs": []
    },
    {
      "cell_type": "code",
      "metadata": {
        "id": "Tbpd-90OvSHo",
        "colab": {
          "base_uri": "https://localhost:8080/"
        },
        "outputId": "ead83d51-3fb9-4ee2-fd7a-e399a7a36f2d"
      },
      "source": [
        "binary_result = binaryMatrix(test_result)\n",
        "binary_result"
      ],
      "execution_count": null,
      "outputs": [
        {
          "output_type": "execute_result",
          "data": {
            "text/plain": [
              "[[1, 1, 1, 1, 1, 1, 1, 1, 1, 1],\n",
              " [1, 1, 1, 1, 1, 1, 1, 1, 1, 1],\n",
              " [1, 1, 1, 1, 1, 1, 0, 1, 1, 0],\n",
              " [0, 1, 0, 1, 1, 1, 0, 1, 1, 0],\n",
              " [0, 1, 0, 1, 1, 1, 0, 1, 1, 0],\n",
              " [0, 1, 0, 0, 1, 1, 0, 1, 0, 0],\n",
              " [0, 1, 0, 0, 0, 1, 0, 1, 0, 0],\n",
              " [0, 1, 0, 0, 0, 1, 0, 1, 0, 0],\n",
              " [0, 1, 0, 0, 0, 1, 0, 0, 0, 0],\n",
              " [0, 0, 0, 0, 0, 1, 0, 0, 0, 0]]"
            ]
          },
          "metadata": {
            "tags": []
          },
          "execution_count": 33
        }
      ]
    },
    {
      "cell_type": "code",
      "metadata": {
        "id": "LRZv-cNWvSHq"
      },
      "source": [
        "# Returns padded input sequence as well as a tensor of lengths of inputs\n",
        "def inputVar(l,voc):\n",
        "    indexes_batch = [indexesFromSentence(voc, sentence) for sentence in l]\n",
        "    lengths = torch.tensor([len(indexes) for indexes in indexes_batch])\n",
        "    padList = ZeroPadding(indexes_batch)\n",
        "    padVar = torch.LongTensor(padList)\n",
        "    return padVar, lengths"
      ],
      "execution_count": null,
      "outputs": []
    },
    {
      "cell_type": "code",
      "metadata": {
        "id": "6r1o6xQJvSHs"
      },
      "source": [
        "# for target sequence\n",
        "def outputVar(l,voc):\n",
        "    indexes_batch = [indexesFromSentence(voc, sentence) for sentence in l]\n",
        "    max_target_len = max([len(indexes) for indexes in indexes_batch])\n",
        "    padList = ZeroPadding(indexes_batch)\n",
        "    mask = binaryMatrix(padList)\n",
        "    mask = torch.ByteTensor(mask)\n",
        "    padVar = torch.LongTensor(padList)\n",
        "    return padVar, mask, max_target_len"
      ],
      "execution_count": null,
      "outputs": []
    },
    {
      "cell_type": "code",
      "metadata": {
        "id": "ReR6dTS1vSHv"
      },
      "source": [
        "# Returns all items for a given batch of pairs\n",
        "def batch2TrainData(voc, pair_batch):\n",
        "    #Sort the questions in descending length\n",
        "    pair_batch.sort(key=lambda x:len(x[0].split()), reverse=True)\n",
        "    input_batch, output_batch = [],[]\n",
        "    for pair in pair_batch:\n",
        "        input_batch.append(pair[0])\n",
        "        output_batch.append(pair[1])\n",
        "    inp, lengths = inputVar(input_batch, voc)\n",
        "\n",
        "    output, mask, max_target_len = outputVar(output_batch, voc)\n",
        "    return inp, lengths, output, mask, max_target_len"
      ],
      "execution_count": null,
      "outputs": []
    },
    {
      "cell_type": "code",
      "metadata": {
        "id": "aWuFoi11vSHx",
        "colab": {
          "base_uri": "https://localhost:8080/"
        },
        "outputId": "1f59151f-5e66-428f-ba18-032dc4ec27c5"
      },
      "source": [
        "small_batch_size = 5\n",
        "batches = batch2TrainData(voc, [random.choice(pairs) for _ in range(small_batch_size)])\n",
        "input_variable, lengths, target_variable, mask, max_target_len = batches\n",
        "\n",
        "print('input variable:', input_variable)\n",
        "print('lengths:', lengths)\n",
        "print('target variable:', target_variable)\n",
        "print('mask:', mask)\n",
        "print('max target len:', max_target_len)"
      ],
      "execution_count": null,
      "outputs": [
        {
          "output_type": "stream",
          "text": [
            "input variable: tensor([[  18,   76,   50,  100,   95],\n",
            "        [  25,   37,  115,   47, 1261],\n",
            "        [ 215,  780,   70,  150,    2],\n",
            "        [  25,   40,  185,   74,    0],\n",
            "        [ 197,  359, 7403,  371,    0],\n",
            "        [ 117,    7,    6,    6,    0],\n",
            "        [  24,    4,    2,    2,    0],\n",
            "        [   4,    2,    0,    0,    0],\n",
            "        [   2,    0,    0,    0,    0]])\n",
            "lengths: tensor([9, 8, 7, 7, 3])\n",
            "target variable: tensor([[ 101,   76, 1571,   25,  898],\n",
            "        [ 640,   37,    4,  197,   37],\n",
            "        [ 279,  780,    2,  117,  509],\n",
            "        [ 386,   40,    0,   24,  158],\n",
            "        [ 266,  359,    0,   66,    7],\n",
            "        [   6,    7,    0,  141,   42],\n",
            "        [   2,    4,    0,   83,   83],\n",
            "        [   0,    2,    0,   66,   66],\n",
            "        [   0,    0,    0,    2,    2]])\n",
            "mask: tensor([[1, 1, 1, 1, 1],\n",
            "        [1, 1, 1, 1, 1],\n",
            "        [1, 1, 1, 1, 1],\n",
            "        [1, 1, 0, 1, 1],\n",
            "        [1, 1, 0, 1, 1],\n",
            "        [1, 1, 0, 1, 1],\n",
            "        [1, 1, 0, 1, 1],\n",
            "        [0, 1, 0, 1, 1],\n",
            "        [0, 0, 0, 1, 1]], dtype=torch.uint8)\n",
            "max target len: 9\n"
          ],
          "name": "stdout"
        }
      ]
    },
    {
      "cell_type": "markdown",
      "metadata": {
        "id": "fV8tvl-1vSH0"
      },
      "source": [
        "# Part 3: Building the model  \n",
        "## Steps:  \n",
        "    1. Convert word indexes to embeddings\n",
        "    2. Pack padded batch sequences for RNN model\n",
        "    3. Forward pass through GRU\n",
        "    4. Unpack padding\n",
        "    5. Return output and final hidden state\n",
        "\n",
        "We will use birectional GRU, meaning that there are essentially two independant RNN: one  that is fed the input sequence in normal order and one that is fed the input sequence in reverse order. The outputs of each network are summed, at each time step. Using bidirectional GRU will give us an advantage of encoding both past and future context."
      ]
    },
    {
      "cell_type": "markdown",
      "metadata": {
        "id": "rpLIcSY4vSH0"
      },
      "source": [
        "# Creating the Encoder"
      ]
    },
    {
      "cell_type": "code",
      "metadata": {
        "id": "MNAEB4DNvSH1"
      },
      "source": [
        "class EncoderRNN(nn.Module):\n",
        "    def __init__(self, hidden_size, embedding, n_layers=1, dropout=0):\n",
        "        super(EncoderRNN, self).__init__()\n",
        "        self.n_layers = n_layers\n",
        "        self.hidden_size = hidden_size\n",
        "        self.embedding = embedding\n",
        "        # initialize GRU; the input_size and hidden_size params are both to hidden_size\n",
        "        # becuz our input size is a word embedding with num of features == hidden size\n",
        "        self.gru = nn.GRU(hidden_size, hidden_size, n_layers, dropout=(0 if n_layers == 1 else dropout), bidirectional=True)\n",
        "        \n",
        "    def forward(self, input_seq, input_lengths, hidden=None):\n",
        "        # input_seq : batch of input sentences; shape(max_len, batch_size)\n",
        "        # input_lengths: list of sentence lengths correspoding to each sentence in the batch\n",
        "        # hidden state of shape: (n_layers x num_direction, batch_size, hidden_size)\n",
        "        \n",
        "        #Convert word indexes to embeddings\n",
        "        embedded = self.embedding(input_seq)\n",
        "        \n",
        "        # Pack padded batch of sequences for RNN\n",
        "        packed = torch.nn.utils.rnn.pack_padded_sequence(embedded, input_lengths)\n",
        "        \n",
        "        # Forward pass through GRU\n",
        "        outputs, hidden = self.gru(packed, hidden)\n",
        "        \n",
        "        #unpack the padding\n",
        "        outputs, _ = torch.nn.utils.rnn.pad_packed_sequence(outputs)\n",
        "        \n",
        "        #sum bidirectional GRU outputs\n",
        "        outputs = outputs[:,:,:self.hidden_size] + outputs[:,:,self.hidden_size:]\n",
        "        \n",
        "        # Return output and final hidden state\n",
        "        return outputs, hidden\n",
        "        # Outputs: the output features h_t from the last layers of GRU, for each timestep(sum of bidirectional ouput)\n",
        "        # outputs shape=(max_length, batch_size, hidden_size)\n",
        "        # hidden: hidden state for the last timestep, of shape=(n_layers x num_direction, batch_size, hidden_size)\n"
      ],
      "execution_count": null,
      "outputs": []
    },
    {
      "cell_type": "markdown",
      "metadata": {
        "id": "Moqu9J96vSH4"
      },
      "source": [
        "# Creating the Attention machanism"
      ]
    },
    {
      "cell_type": "code",
      "metadata": {
        "id": "UWv2HX0dvSH4"
      },
      "source": [
        "# Luong attention layer\n",
        "class Attn(torch.nn.Module):\n",
        "    def __init__(self, method, hidden_size):\n",
        "        super(Attn, self).__init__()\n",
        "        self.method = method\n",
        "        self.hidden_size = hidden_size\n",
        "    \n",
        "    def dot_score(self, hidden, encoder_output):\n",
        "        # Element wise multiply the current target decoder state with  encoder output and sum them\n",
        "        return torch.sum(hidden * encoder_output, dim=2)\n",
        "\n",
        "    def forward(self, hidden, encoder_outputs):\n",
        "        '''\n",
        "            Hidden = shape(1,batch_size, hidden_size)\n",
        "            encoder_outputs = shape(max_length, batch_size)\n",
        "            \n",
        "            returns sum(hidden*encoder_output)\n",
        "        '''\n",
        "        attn_energies = self.dot_score(hidden, encoder_outputs) #shape=(max_length. batch_size)\n",
        "        \n",
        "        # Transpose dim\n",
        "        attn_energies = attn_energies.t()\n",
        "        \n",
        "        #return softmax of attn energies\n",
        "        return F.softmax(attn_energies, dim=1).unsqueeze(1) #shape=(batch_size,1,max_length)"
      ],
      "execution_count": null,
      "outputs": []
    },
    {
      "cell_type": "markdown",
      "metadata": {
        "id": "yKjKxFb4vSH7"
      },
      "source": [
        "# Creating the Decoder"
      ]
    },
    {
      "cell_type": "code",
      "metadata": {
        "id": "Bg4FHCKYvSH7"
      },
      "source": [
        "class LuongAttnDecoderRNN(nn.Module):\n",
        "    def __init__(self, attn_model, embedding, hidden_size, output_size, n_layers=1,  dropout=0.1):\n",
        "        super(LuongAttnDecoderRNN, self).__init__()\n",
        "        self.attn_model = attn_model\n",
        "        self.hidden_size = hidden_size\n",
        "        self.output_size = output_size\n",
        "        self.n_layers = n_layers\n",
        "        self.dropout = dropout\n",
        "        \n",
        "        # Defining layers\n",
        "        self.embedding = embedding\n",
        "        self.embedding_dropout = nn.Dropout(dropout)\n",
        "        self.gru = nn.GRU(hidden_size, hidden_size, n_layers, dropout=(0 if n_layers==1 else dropout))\n",
        "        self.concat = nn.Linear(hidden_size*2, hidden_size)\n",
        "        self.out = nn.Linear(hidden_size, output_size)\n",
        "        \n",
        "        self.attn = Attn(attn_model, hidden_size)\n",
        "        \n",
        "    def forward(self, input_step, last_hidden, encoder_outputs):\n",
        "        '''\n",
        "            input_step: one time step of input seq batch; shape=(1, batch_size)\n",
        "            last_hidden: final hidden layer of GRU; shape=(n_layers*num_directions, batch_size, hidden_size)\n",
        "            encoder_outputs: encoder model's output; shape=(max_length, batch_size, hidden_size)\n",
        "            we run this one step(word) at a time\n",
        "            \n",
        "            Output: \n",
        "            softmax normalized tensor giving probabilities for each word being correct next word in the decoded sequence\n",
        "            shape=(batch_size, voc.num_words)\n",
        "            hidden: final hidden state of GRU; shape=(n_layers x num_direction, batch_size, hidden_size)\n",
        "        '''\n",
        "        # Get embedding of current input word\n",
        "        embedded = self.embedding(input_step)\n",
        "        embedded = self.embedding_dropout(embedded)\n",
        "        \n",
        "        # Forward pass\n",
        "        rnn_output, hidden = self.gru(embedded, last_hidden)\n",
        "        \n",
        "        # Calculate attention weights from current GRU output\n",
        "        attn_weights = self.attn(rnn_output, encoder_outputs)\n",
        "        \n",
        "        # Multiply attention weights to encoder output to get the weighted sum of the context vector\n",
        "        # (batch_size, 1, max_length) bmm with (batch_size,max_length,hidden) = (batch_size,1,hidden)\n",
        "        context = attn_weights.bmm(encoder_outputs.transpose(0,1))\n",
        "        # Concatenate weighted context vector and GRU output\n",
        "        rnn_output = rnn_output.squeeze(0)\n",
        "        context = context.squeeze(1)\n",
        "        \n",
        "        concat_input = torch.cat((rnn_output, context), 1)\n",
        "        concat_output = torch.tanh(self.concat(concat_input))\n",
        "        \n",
        "        # Predict next word using Luong eq. 6\n",
        "        output = self.out(concat_output)\n",
        "        output = F.softmax(output, dim=1)\n",
        "        \n",
        "        # Return output and final hidden state\n",
        "        return output, hidden\n"
      ],
      "execution_count": null,
      "outputs": []
    },
    {
      "cell_type": "markdown",
      "metadata": {
        "id": "D-5NoxgMvSH9"
      },
      "source": [
        "# Creating the loss function"
      ]
    },
    {
      "cell_type": "code",
      "metadata": {
        "id": "wHPNsZHgvSH-"
      },
      "source": [
        "def maskNLLLLoss(decoder_out, target, mask):\n",
        "    nTotal = mask.sum()\n",
        "    target = target.view(-1,1)\n",
        "    # Decoder out shape:(batch_size, vocab_size), target_size=(batch_size, 1)\n",
        "    gather_tensor = torch.gather(decoder_out, 1, target)\n",
        "    # Calculate the negative log likelihood loss\n",
        "    crossEntropy = -torch.log(gather_tensor)\n",
        "    #select non-zero elements\n",
        "    loss = crossEntropy.masked_select(mask)\n",
        "    # Calculate the mean of the loss\n",
        "    loss = loss.mean()\n",
        "    loss = loss.to(device)\n",
        "    return loss, nTotal.item()"
      ],
      "execution_count": null,
      "outputs": []
    },
    {
      "cell_type": "code",
      "metadata": {
        "id": "PMfWPXXavSIB",
        "colab": {
          "base_uri": "https://localhost:8080/"
        },
        "outputId": "d2ac152f-6dc4-4032-b33d-87f88099918e"
      },
      "source": [
        "# Visualizing what's happening in one iteration\n",
        "small_batch_size = 5\n",
        "batches = batch2TrainData(voc, [random.choice(pairs) for _ in range(small_batch_size)])\n",
        "input_variable, lengths, target_variable, mask, max_target_len = batches\n",
        "\n",
        "print('input variable shape:', input_variable.shape)\n",
        "print('length shapes:', lengths.shape)\n",
        "print('target variable shape:', target_variable.shape)\n",
        "print('mask shape:', mask.shape)\n",
        "print('max target len:', max_target_len)\n",
        "\n",
        "# Define the parameters\n",
        "hidden_size =500\n",
        "encoder_n_layers = 2\n",
        "decoder_n_layers = 2\n",
        "dropout = 0.1\n",
        "attn_model = 'dot'\n",
        "embedding = nn.Embedding(voc.num_words, hidden_size)\n",
        "\n",
        "# Define the encoder and decoder\n",
        "encoder = EncoderRNN(hidden_size, embedding, encoder_n_layers, dropout)\n",
        "decoder = LuongAttnDecoderRNN(attn_model, embedding, hidden_size, voc.num_words, decoder_n_layers, dropout)\n",
        "encoder = encoder.to(device)\n",
        "decoder = decoder.to(device)\n",
        "\n",
        "# Ensure dropout layers are in train mode\n",
        "encoder.train()\n",
        "decoder.train()\n",
        "\n",
        "# Initialize optimizers\n",
        "encoder_optimizer = optim.Adam(encoder.parameters(), lr=0.0001)\n",
        "decoder_optimizer = optim.Adam(decoder.parameters(), lr=0.0001)\n",
        "encoder_optimizer.zero_grad()\n",
        "decoder_optimizer.zero_grad()\n",
        "\n",
        "\n",
        "input_variable = input_variable.to(device)\n",
        "lengths = lengths.to(device) \n",
        "target_variable = target_variable.to(device)\n",
        "mask = mask.to(device)\n",
        "\n",
        "loss = 0\n",
        "print_losses = []\n",
        "n_totals = 0\n",
        "\n",
        "encoder_outputs, encoder_hidden = encoder(input_variable, lengths)\n",
        "print('Encoder outputs shape: ', encoder_outputs.shape)\n",
        "print('Last Encoder Hidden Shape', encoder_hidden.shape)\n",
        "\n",
        "decoder_input = torch.LongTensor([[SOS_token for _ in range(small_batch_size)]])\n",
        "decoder_input = decoder_input.to(device)\n",
        "print('Initial Decoder input shape:', decoder_input.shape)\n",
        "print(decoder_input)\n",
        "\n",
        "# Set the initial decoder hidden state to the encoder's final hidden state\n",
        "decoder_hidden = encoder_hidden[:decoder.n_layers]\n",
        "print('Initial Decoder hidden state shape:', decoder_hidden.shape)\n",
        "print('\\n')\n",
        "print('.'*50)\n",
        "print('Now Lets look at whats happening in every timestep of a GRU')\n",
        "print('.'*50)\n",
        "print('\\n')\n",
        "\n",
        "# Assume we are using Teacher Forcing\n",
        "for t in range(max_target_len):\n",
        "    decoder_output, decoder_hidden = decoder(decoder_input, decoder_hidden, encoder_outputs)\n",
        "    print('Decoder output shape:', decoder_output.shape)\n",
        "    print('Decoder Hidden shape:', decoder_hidden.shape)\n",
        "    \n",
        "    # Teacher forcing: next input is current target\n",
        "    decoder_input = target_variable[t].view(1, -1)\n",
        "    print('The target variable at current timestep before reshaping:', target_variable[t])\n",
        "    print('The shape of target variable at current timestep before reshaping:', target_variable[t].shape)\n",
        "    print('Decoder input shae:', decoder_input.shape)\n",
        "    \n",
        "    # Calculate and accumulate loss\n",
        "    print('The mask at the current timestep:', mask[t])\n",
        "    print('Teh shape of mask:', mask[t].shape)\n",
        "    \n",
        "    mask_loss, nTotal = maskNLLLLoss(decoder_output, target_variable[t], mask[t])\n",
        "    print('Mask loss:', mask_loss)\n",
        "    print('Total;', nTotal)\n",
        "    \n",
        "    loss += mask_loss\n",
        "    print_losses.append(mask_loss.item()*nTotal)\n",
        "    print(print_losses)\n",
        "    n_totals +=nTotal\n",
        "    print(n_totals)\n",
        "    \n",
        "    encoder_optimizer.step()\n",
        "    decoder_optimizer.step()\n",
        "    returned_loss = sum(print_losses) / n_totals\n",
        "    print('Returned Loss:', returned_loss)\n",
        "    print('\\n')\n",
        "    print('.'*30, 'Done one timestep', '.'*30)\n",
        "    print('\\n')"
      ],
      "execution_count": null,
      "outputs": [
        {
          "output_type": "stream",
          "text": [
            "input variable shape: torch.Size([9, 5])\n",
            "length shapes: torch.Size([5])\n",
            "target variable shape: torch.Size([8, 5])\n",
            "mask shape: torch.Size([8, 5])\n",
            "max target len: 8\n",
            "Encoder outputs shape:  torch.Size([9, 5, 500])\n",
            "Last Encoder Hidden Shape torch.Size([4, 5, 500])\n",
            "Initial Decoder input shape: torch.Size([1, 5])\n",
            "tensor([[1, 1, 1, 1, 1]])\n",
            "Initial Decoder hidden state shape: torch.Size([2, 5, 500])\n",
            "\n",
            "\n",
            "..................................................\n",
            "Now Lets look at whats happening in every timestep of a GRU\n",
            "..................................................\n",
            "\n",
            "\n",
            "Decoder output shape: torch.Size([5, 7826])\n",
            "Decoder Hidden shape: torch.Size([2, 5, 500])\n",
            "The target variable at current timestep before reshaping: tensor([ 25,  25, 488,  61,  25])\n",
            "The shape of target variable at current timestep before reshaping: torch.Size([5])\n",
            "Decoder input shae: torch.Size([1, 5])\n",
            "The mask at the current timestep: tensor([1, 1, 1, 1, 1], dtype=torch.uint8)\n",
            "Teh shape of mask: torch.Size([5])\n",
            "Mask loss: tensor(8.9437, grad_fn=<MeanBackward0>)\n",
            "Total; 5\n",
            "[44.7185754776001]\n",
            "5\n",
            "Returned Loss: 8.94371509552002\n",
            "\n",
            "\n",
            ".............................. Done one timestep ..............................\n",
            "\n",
            "\n",
            "Decoder output shape: torch.Size([5, 7826])\n",
            "Decoder Hidden shape: torch.Size([2, 5, 500])\n",
            "The target variable at current timestep before reshaping: tensor([200,  94, 614,  37, 200])\n",
            "The shape of target variable at current timestep before reshaping: torch.Size([5])\n",
            "Decoder input shae: torch.Size([1, 5])\n",
            "The mask at the current timestep: tensor([1, 1, 1, 1, 1], dtype=torch.uint8)\n",
            "Teh shape of mask: torch.Size([5])\n",
            "Mask loss: tensor(8.9735, grad_fn=<MeanBackward0>)\n",
            "Total; 5\n",
            "[44.7185754776001, 44.867281913757324]\n",
            "10\n",
            "Returned Loss: 8.958585739135742\n",
            "\n",
            "\n",
            ".............................. Done one timestep ..............................\n",
            "\n",
            "\n",
            "Decoder output shape: torch.Size([5, 7826])\n",
            "Decoder Hidden shape: torch.Size([2, 5, 500])\n",
            "The target variable at current timestep before reshaping: tensor([126, 117,  29,   9,  67])\n",
            "The shape of target variable at current timestep before reshaping: torch.Size([5])\n",
            "Decoder input shae: torch.Size([1, 5])\n",
            "The mask at the current timestep: tensor([1, 1, 1, 1, 1], dtype=torch.uint8)\n",
            "Teh shape of mask: torch.Size([5])\n",
            "Mask loss: tensor(8.9398, grad_fn=<MeanBackward0>)\n",
            "Total; 5\n",
            "[44.7185754776001, 44.867281913757324, 44.69919681549072]\n",
            "15\n",
            "Returned Loss: 8.952336947123209\n",
            "\n",
            "\n",
            ".............................. Done one timestep ..............................\n",
            "\n",
            "\n",
            "Decoder output shape: torch.Size([5, 7826])\n",
            "Decoder Hidden shape: torch.Size([2, 5, 500])\n",
            "The target variable at current timestep before reshaping: tensor([  40, 1114, 1068,  172,  192])\n",
            "The shape of target variable at current timestep before reshaping: torch.Size([5])\n",
            "Decoder input shae: torch.Size([1, 5])\n",
            "The mask at the current timestep: tensor([1, 1, 1, 1, 1], dtype=torch.uint8)\n",
            "Teh shape of mask: torch.Size([5])\n",
            "Mask loss: tensor(8.9442, grad_fn=<MeanBackward0>)\n",
            "Total; 5\n",
            "[44.7185754776001, 44.867281913757324, 44.69919681549072, 44.721221923828125]\n",
            "20\n",
            "Returned Loss: 8.950313806533813\n",
            "\n",
            "\n",
            ".............................. Done one timestep ..............................\n",
            "\n",
            "\n",
            "Decoder output shape: torch.Size([5, 7826])\n",
            "Decoder Hidden shape: torch.Size([2, 5, 500])\n",
            "The target variable at current timestep before reshaping: tensor([756,   4, 403,   4,   4])\n",
            "The shape of target variable at current timestep before reshaping: torch.Size([5])\n",
            "Decoder input shae: torch.Size([1, 5])\n",
            "The mask at the current timestep: tensor([1, 1, 1, 1, 1], dtype=torch.uint8)\n",
            "Teh shape of mask: torch.Size([5])\n",
            "Mask loss: tensor(8.9736, grad_fn=<MeanBackward0>)\n",
            "Total; 5\n",
            "[44.7185754776001, 44.867281913757324, 44.69919681549072, 44.721221923828125, 44.86813545227051]\n",
            "25\n",
            "Returned Loss: 8.954976463317871\n",
            "\n",
            "\n",
            ".............................. Done one timestep ..............................\n",
            "\n",
            "\n",
            "Decoder output shape: torch.Size([5, 7826])\n",
            "Decoder Hidden shape: torch.Size([2, 5, 500])\n",
            "The target variable at current timestep before reshaping: tensor([36,  2,  4,  2,  2])\n",
            "The shape of target variable at current timestep before reshaping: torch.Size([5])\n",
            "Decoder input shae: torch.Size([1, 5])\n",
            "The mask at the current timestep: tensor([1, 1, 1, 1, 1], dtype=torch.uint8)\n",
            "Teh shape of mask: torch.Size([5])\n",
            "Mask loss: tensor(9.0038, grad_fn=<MeanBackward0>)\n",
            "Total; 5\n",
            "[44.7185754776001, 44.867281913757324, 44.69919681549072, 44.721221923828125, 44.86813545227051, 45.01909255981445]\n",
            "30\n",
            "Returned Loss: 8.963116804758707\n",
            "\n",
            "\n",
            ".............................. Done one timestep ..............................\n",
            "\n",
            "\n",
            "Decoder output shape: torch.Size([5, 7826])\n",
            "Decoder Hidden shape: torch.Size([2, 5, 500])\n",
            "The target variable at current timestep before reshaping: tensor([4, 0, 2, 0, 0])\n",
            "The shape of target variable at current timestep before reshaping: torch.Size([5])\n",
            "Decoder input shae: torch.Size([1, 5])\n",
            "The mask at the current timestep: tensor([1, 0, 1, 0, 0], dtype=torch.uint8)\n",
            "Teh shape of mask: torch.Size([5])\n",
            "Mask loss: tensor(8.9976, grad_fn=<MeanBackward0>)\n",
            "Total; 2\n",
            "[44.7185754776001, 44.867281913757324, 44.69919681549072, 44.721221923828125, 44.86813545227051, 45.01909255981445, 17.995254516601562]\n",
            "32\n",
            "Returned Loss: 8.965273708105087\n",
            "\n",
            "\n",
            ".............................. Done one timestep ..............................\n",
            "\n",
            "\n",
            "Decoder output shape: torch.Size([5, 7826])\n",
            "Decoder Hidden shape: torch.Size([2, 5, 500])\n",
            "The target variable at current timestep before reshaping: tensor([2, 0, 0, 0, 0])\n",
            "The shape of target variable at current timestep before reshaping: torch.Size([5])\n",
            "Decoder input shae: torch.Size([1, 5])\n",
            "The mask at the current timestep: tensor([1, 0, 0, 0, 0], dtype=torch.uint8)\n",
            "Teh shape of mask: torch.Size([5])\n",
            "Mask loss: tensor(9.0402, grad_fn=<MeanBackward0>)\n",
            "Total; 1\n",
            "[44.7185754776001, 44.867281913757324, 44.69919681549072, 44.721221923828125, 44.86813545227051, 45.01909255981445, 17.995254516601562, 9.040193557739258]\n",
            "33\n",
            "Returned Loss: 8.96754400657885\n",
            "\n",
            "\n",
            ".............................. Done one timestep ..............................\n",
            "\n",
            "\n"
          ],
          "name": "stdout"
        },
        {
          "output_type": "stream",
          "text": [
            "/usr/local/lib/python3.6/dist-packages/ipykernel_launcher.py:9: UserWarning: masked_select received a mask with dtype torch.uint8, this behavior is now deprecated,please use a mask with dtype torch.bool instead. (Triggered internally at  /pytorch/aten/src/ATen/native/TensorAdvancedIndexing.cpp:733.)\n",
            "  if __name__ == '__main__':\n"
          ],
          "name": "stderr"
        }
      ]
    },
    {
      "cell_type": "code",
      "metadata": {
        "id": "mCUz7DCqvSIF"
      },
      "source": [
        "def train(input_variable, lengths, target_variable,\n",
        "          mask, max_target_len, encoder,\n",
        "          decoder, embedding, encoder_optimizer,\n",
        "          decoder_optimizer, batch_size,\n",
        "          clip, max_length=MAX_LENGTH):\n",
        "    \n",
        "    # Zero gradients\n",
        "    encoder_optimizer.zero_grad()\n",
        "    decoder_optimizer.zero_grad()\n",
        "    \n",
        "    # Set device options\n",
        "    input_variable = input_variable.to(device)\n",
        "    lengths = lengths.to(device)\n",
        "    target_variable = target_variable.to(device)\n",
        "    mask = mask.to(device)\n",
        "    \n",
        "    # initialize variable\n",
        "    loss = 0\n",
        "    print_losses = []\n",
        "    n_totals = 0\n",
        "    \n",
        "    # Forward pass through encoder\n",
        "    encoder_outputs, encoder_hidden = encoder(input_variable, lengths)\n",
        "    \n",
        "    # Create initial decoder input (start with SOS token)\n",
        "    decoder_input = torch.LongTensor([[SOS_token for _ in range(batch_size)]])\n",
        "    decoder_input = decoder_input.to(device)\n",
        "    \n",
        "    # Set initial decoder hidden state to the encoder's final hidden state\n",
        "    decoder_hidden = encoder_hidden[:decoder.n_layers]\n",
        "    \n",
        "    # Determine if we are using teacher forcing \n",
        "    use_teacher_forcing = True if random.random() < teacher_forcing_ratio else False\n",
        "    \n",
        "    # Forward pass\n",
        "    if use_teacher_forcing:\n",
        "        for t in range(max_target_len):\n",
        "            decoder_output, decoder_hidden = decoder(decoder_input, decoder_hidden, encoder_outputs)\n",
        "            # teacher forcing\n",
        "            decoder_input = target_variable[t].view(1,-1)\n",
        "            #calculate and accumulate loss\n",
        "            mask_loss, nTotal = maskNLLLLoss(decoder_output, target_variable[t], mask[t])\n",
        "            \n",
        "            loss += mask_loss \n",
        "            print_losses.append(mask_loss.item()*nTotal)\n",
        "            n_totals +=nTotal\n",
        "    else:\n",
        "        for t in range(max_target_len):\n",
        "            decoder_output, decoder_hidden = decoder(decoder_input, decoder_hidden, encoder_outputs)\n",
        "            # no teacher forcing\n",
        "            _, topi = decoder_output.topk(1)\n",
        "            decoder_input = torch.LongTensor([[topi[i][0] for i in range(batch_size)]])\n",
        "            decoder_input = decoder_input.to(device)\n",
        "            #calculate and accumulate loss\n",
        "            mask_loss, nTotal = maskNLLLLoss(decoder_output, tatget_variable[t], mask[t])\n",
        "            \n",
        "            loss += mask_loss \n",
        "            print_losses.append(mask_loss.item()*nTotal)\n",
        "            n_totals +=nTotal\n",
        "            \n",
        "    # Backpropagation\n",
        "    loss.backward()\n",
        "    \n",
        "    # Gradient Clipping\n",
        "    _ = nn.utils.clip_grad_norm_(encoder.parameters(), clip)\n",
        "    _ = nn.utils.clip_grad_norm_(decoder.parameters(), clip)\n",
        "    \n",
        "    # Adjust model weights\n",
        "    encoder_optimizer.step()\n",
        "    decoder_optimizer.step()\n",
        "    \n",
        "    return sum(print_losses) / n_totals"
      ],
      "execution_count": null,
      "outputs": []
    },
    {
      "cell_type": "code",
      "metadata": {
        "id": "sbOLkkwtvSIK"
      },
      "source": [
        "def trainIters(model_name, voc, pairs,\n",
        "               encoder, decoder,\n",
        "               encoder_optimizer, decoder_optimizer,\n",
        "               embedding, encoder_n_layers,\n",
        "               decoder_n_layers, save_dir,\n",
        "               n_iteration, batch_size, print_every,\n",
        "               save_every, clip, corpus_name, loadFilename):\n",
        "\n",
        "    # Load batches for each iteration\n",
        "    training_batches = [batch2TrainData(voc, [random.choice(pairs) for _ in range(batch_size)])\n",
        "                      for _ in range(n_iteration)]\n",
        "\n",
        "    # Initializations\n",
        "    print('Initializing ...')\n",
        "    start_iteration = 1\n",
        "    print_loss = 0\n",
        "    if loadFilename:\n",
        "        start_iteration = checkpoint['iteration'] + 1\n",
        "\n",
        "    # Training loop\n",
        "    print(\"Training...\")\n",
        "    for iteration in range(start_iteration, n_iteration + 1):\n",
        "        training_batch = training_batches[iteration - 1]\n",
        "        # Extract fields from batch\n",
        "        input_variable, lengths, target_variable, mask, max_target_len = training_batch\n",
        "\n",
        "        # Run a training iteration with batch\n",
        "        loss = train(input_variable, lengths, target_variable, mask, max_target_len, encoder,\n",
        "                     decoder, embedding, encoder_optimizer, decoder_optimizer, batch_size, clip)\n",
        "        print_loss += loss\n",
        "\n",
        "        # Print progress\n",
        "        if iteration % print_every == 0:\n",
        "            print_loss_avg = print_loss / print_every\n",
        "            print(\"Iteration: {}; Percent complete: {:.1f}%; Average loss: {:.4f}\".format(iteration, iteration / n_iteration * 100, print_loss_avg))\n",
        "            print_loss = 0\n",
        "\n",
        "        # Save checkpoint\n",
        "        if (iteration % save_every == 0):\n",
        "            directory = os.path.join(save_dir, model_name, corpus_name, '{}-{}_{}'.format(encoder_n_layers, decoder_n_layers, hidden_size))\n",
        "            if not os.path.exists(directory):\n",
        "                os.makedirs(directory)\n",
        "            torch.save({\n",
        "                'iteration': iteration,\n",
        "                'en': encoder.state_dict(),\n",
        "                'de': decoder.state_dict(),\n",
        "                'en_opt': encoder_optimizer.state_dict(),\n",
        "                'de_opt': decoder_optimizer.state_dict(),\n",
        "                'loss': loss,\n",
        "                'voc_dict': voc.__dict__,\n",
        "                'embedding': embedding.state_dict()\n",
        "            }, os.path.join(directory, '{}_{}.tar'.format(iteration, 'checkpoint')))"
      ],
      "execution_count": null,
      "outputs": []
    },
    {
      "cell_type": "markdown",
      "metadata": {
        "id": "M9ghSF2HvSIP"
      },
      "source": [
        "## Greedy decoding  \n",
        "Greedy decoding is the decoding method that we use during training when we are NOT using teacher forcing. In other words, for each time step, we simply choose the word from decoder_output with the highest softmax value. This decoding method is optimal on a single time-step level.\n",
        "\n",
        "To facilite the greedy decoding operation, we define a GreedySearchDecoder class. When run, an object of this class takes an input sequence (input_seq) of shape (input_seq length, 1), a scalar input length (input_length) tensor, and a max_length to bound the response sentence length. The input sentence is evaluated using the following computational graph:\n",
        "\n",
        "Computation Graph:\n",
        "\n",
        "    1. Forward input through encoder model.\n",
        "    2. Prepare encoder’s final hidden layer to be first hidden input to the decoder.\n",
        "    3. Initialize decoder’s first input as SOS_token.\n",
        "    4. Initialize tensors to append decoded words to.\n",
        "    5. Iteratively decode one word token at a time:\n",
        "        a.Forward pass through decoder.\n",
        "        b.Obtain most likely word token and its softmax score.\n",
        "        c.Record token and score.\n",
        "        d.Prepare current token to be next decoder input.\n",
        "    6.Return collections of word tokens and scores.\n"
      ]
    },
    {
      "cell_type": "code",
      "metadata": {
        "id": "xL1PH4ONvSIQ"
      },
      "source": [
        "class GreedySearchDecoder(nn.Module):\n",
        "    def __init__(self, encoder, decoder):\n",
        "        super(GreedySearchDecoder, self).__init__()\n",
        "        self.encoder = encoder\n",
        "        self.decoder = decoder\n",
        "\n",
        "    def forward(self, input_seq, input_length, max_length):\n",
        "        # Forward input through encoder model\n",
        "        encoder_outputs, encoder_hidden = self.encoder(input_seq, input_length)\n",
        "        # Prepare encoder's final hidden layer to be first hidden input to the decoder\n",
        "        decoder_hidden = encoder_hidden[:decoder.n_layers]\n",
        "        # Initialize decoder input with SOS_token\n",
        "        decoder_input = torch.ones(1, 1, device=device, dtype=torch.long) * SOS_token\n",
        "        # Initialize tensors to append decoded words to\n",
        "        all_tokens = torch.zeros([0], device=device, dtype=torch.long)\n",
        "        all_scores = torch.zeros([0], device=device)\n",
        "        # Iteratively decode one word token at a time\n",
        "        for _ in range(max_length):\n",
        "            # Forward pass through decoder\n",
        "            decoder_output, decoder_hidden = self.decoder(decoder_input, decoder_hidden, encoder_outputs)\n",
        "            # Obtain most likely word token and its softmax score\n",
        "            decoder_scores, decoder_input = torch.max(decoder_output, dim=1)\n",
        "            # Record token and score\n",
        "            all_tokens = torch.cat((all_tokens, decoder_input), dim=0)\n",
        "            all_scores = torch.cat((all_scores, decoder_scores), dim=0)\n",
        "            # Prepare current token to be next decoder input (add a dimension)\n",
        "            decoder_input = torch.unsqueeze(decoder_input, 0)\n",
        "        # Return collections of word tokens and scores\n",
        "        return all_tokens, all_scores"
      ],
      "execution_count": null,
      "outputs": []
    },
    {
      "cell_type": "markdown",
      "metadata": {
        "id": "BNJAMV7-vSIS"
      },
      "source": [
        "# Evaluate my text\n",
        "Now that we have our decoding method defined, we can write functions for evaluating a string input sentence. The evaluate function manages the low-level process of handling the input sentence. We first format the sentence as an input batch of word indexes with batch_size==1. We do this by converting the words of the sentence to their corresponding indexes, and transposing the dimensions to prepare the tensor for our models. We also create a lengths tensor which contains the length of our input sentence. In this case, lengths is scalar because we are only evaluating one sentence at a time (batch_size==1). Next, we obtain the decoded response sentence tensor using our GreedySearchDecoder object (searcher). Finally, we convert the response’s indexes to words and return the list of decoded words.\n",
        "\n",
        "evaluateInput acts as the user interface for our chatbot. When called, an input text field will spawn in which we can enter our query sentence. After typing our input sentence and pressing Enter, our text is normalized in the same way as our training data, and is ultimately fed to the evaluate function to obtain a decoded output sentence. We loop this process, so we can keep chatting with our bot until we enter either “q” or “quit”.\n",
        "\n",
        "Finally, if a sentence is entered that contains a word that is not in the vocabulary, we handle this gracefully by printing an error message and prompting the user to enter another sentence."
      ]
    },
    {
      "cell_type": "code",
      "metadata": {
        "id": "hZL6gmBlvSIT"
      },
      "source": [
        "def evaluate(encoder, decoder, searcher, voc, sentence, max_length=MAX_LENGTH):\n",
        "    ### Format input sentence as a batch\n",
        "    # words -> indexes\n",
        "    indexes_batch = [indexesFromSentence(voc, sentence)]\n",
        "    # Create lengths tensor\n",
        "    lengths = torch.tensor([len(indexes) for indexes in indexes_batch])\n",
        "    # Transpose dimensions of batch to match models' expectations\n",
        "    input_batch = torch.LongTensor(indexes_batch).transpose(0, 1)\n",
        "    # Use appropriate device\n",
        "    input_batch = input_batch.to(device)\n",
        "    lengths = lengths.to(device)\n",
        "    # Decode sentence with searcher\n",
        "    tokens, scores = searcher(input_batch, lengths, max_length)\n",
        "    # indexes -> words\n",
        "    decoded_words = [voc.index2word[token.item()] for token in tokens]\n",
        "    return decoded_words\n",
        "\n",
        "\n",
        "def evaluateInput(encoder, decoder, searcher, voc):\n",
        "    input_sentence = ''\n",
        "    while(1):\n",
        "        try:\n",
        "            # Get input sentence\n",
        "            input_sentence = input('> ')\n",
        "            # Check if it is quit case\n",
        "            if input_sentence == 'q' or input_sentence == 'quit': break\n",
        "            # Normalize sentence\n",
        "            input_sentence = normalizeString(input_sentence)\n",
        "            # Evaluate sentence\n",
        "            output_words = evaluate(encoder, decoder, searcher, voc, input_sentence)\n",
        "            # Format and print response sentence\n",
        "            output_words[:] = [x for x in output_words if not (x == 'EOS' or x == 'PAD')]\n",
        "            print('Bot:', ' '.join(output_words))\n",
        "\n",
        "        except KeyError:\n",
        "            print(\"Error: Encountered unknown word.\")"
      ],
      "execution_count": null,
      "outputs": []
    },
    {
      "cell_type": "code",
      "metadata": {
        "id": "BHmlZ32pvSIW",
        "colab": {
          "base_uri": "https://localhost:8080/"
        },
        "outputId": "d1aa0907-49c8-4866-a4bb-76236bc2ffed"
      },
      "source": [
        "# Configure models\n",
        "model_name = 'chatbot_model'\n",
        "attn_model = 'dot'\n",
        "hidden_size = 500\n",
        "encoder_n_layers = 2\n",
        "decoder_n_layers = 2\n",
        "dropout = 0.1\n",
        "batch_size = 64\n",
        "\n",
        "# Set checkpoint to load from; set to None if starting from scratch\n",
        "loadFilename = None\n",
        "checkpoint_iter = 4000\n",
        "\n",
        "# Load model if a loadFilename is provided\n",
        "if loadFilename:\n",
        "    # If loading on same machine the model was trained on\n",
        "    checkpoint = torch.load(loadFilename)\n",
        "    # If loading a model trained on GPU to CPU\n",
        "    #checkpoint = torch.load(loadFilename, map_location=torch.device('cpu'))\n",
        "    encoder_sd = checkpoint['en']\n",
        "    decoder_sd = checkpoint['de']\n",
        "    encoder_optimizer_sd = checkpoint['en_opt']\n",
        "    decoder_optimizer_sd = checkpoint['de_opt']\n",
        "    embedding_sd = checkpoint['embedding']\n",
        "    voc.__dict__ = checkpoint['voc_dict']\n",
        "\n",
        "\n",
        "print('Building encoder and decoder ...')\n",
        "# Initialize word embeddings\n",
        "embedding = nn.Embedding(voc.num_words, hidden_size)\n",
        "if loadFilename:\n",
        "    embedding.load_state_dict(embedding_sd)\n",
        "# Initialize encoder & decoder models\n",
        "encoder = EncoderRNN(hidden_size, embedding, encoder_n_layers, dropout)\n",
        "decoder = LuongAttnDecoderRNN(attn_model, embedding, hidden_size, voc.num_words, decoder_n_layers, dropout)\n",
        "if loadFilename:\n",
        "    encoder.load_state_dict(encoder_sd)\n",
        "    decoder.load_state_dict(decoder_sd)\n",
        "# Use appropriate device\n",
        "encoder = encoder.to(device)\n",
        "decoder = decoder.to(device)\n",
        "print('Models built and ready to go!')"
      ],
      "execution_count": null,
      "outputs": [
        {
          "output_type": "stream",
          "text": [
            "Building encoder and decoder ...\n",
            "Models built and ready to go!\n"
          ],
          "name": "stdout"
        }
      ]
    },
    {
      "cell_type": "code",
      "metadata": {
        "id": "ST_GpU1LvSIa",
        "colab": {
          "base_uri": "https://localhost:8080/"
        },
        "outputId": "c276d9c8-9b16-4c72-cce7-00363ae515a4"
      },
      "source": [
        "# Configure training/optimization\n",
        "clip = 50.0\n",
        "teacher_forcing_ratio = 1.0\n",
        "learning_rate = 0.0001\n",
        "decoder_learning_ratio = 5.0\n",
        "n_iteration = 5000\n",
        "print_every = 50\n",
        "save_every = 100\n",
        "save_dir = os.path.join('Models')\n",
        "corpus_name = 'Cornell-Movie-Dialogues'\n",
        "\n",
        "# Ensure dropout layers are in train mode\n",
        "encoder.train()\n",
        "decoder.train()\n",
        "\n",
        "# Initialize optimizers\n",
        "print('Building optimizers ...')\n",
        "encoder_optimizer = optim.Adam(encoder.parameters(), lr=learning_rate)\n",
        "decoder_optimizer = optim.Adam(decoder.parameters(), lr=learning_rate * decoder_learning_ratio)\n",
        "if loadFilename:\n",
        "    encoder_optimizer.load_state_dict(encoder_optimizer_sd)\n",
        "    decoder_optimizer.load_state_dict(decoder_optimizer_sd)\n",
        "\n",
        "# Run training iterations\n",
        "print(\"Starting Training!\")\n",
        "trainIters(model_name, voc, pairs, encoder, decoder, encoder_optimizer, decoder_optimizer,\n",
        "           embedding, encoder_n_layers, decoder_n_layers, save_dir, n_iteration, batch_size,\n",
        "           print_every, save_every, clip, corpus_name, loadFilename)"
      ],
      "execution_count": 48,
      "outputs": [
        {
          "output_type": "stream",
          "text": [
            "Building optimizers ...\n",
            "Starting Training!\n",
            "Initializing ...\n",
            "Training...\n"
          ],
          "name": "stdout"
        },
        {
          "output_type": "stream",
          "text": [
            "/usr/local/lib/python3.6/dist-packages/ipykernel_launcher.py:9: UserWarning: masked_select received a mask with dtype torch.uint8, this behavior is now deprecated,please use a mask with dtype torch.bool instead. (Triggered internally at  /pytorch/aten/src/ATen/native/TensorAdvancedIndexing.cpp:733.)\n",
            "  if __name__ == '__main__':\n",
            "/usr/local/lib/python3.6/dist-packages/torch/autograd/__init__.py:132: UserWarning: masked_scatter_ received a mask with dtype torch.uint8, this behavior is now deprecated,please use a mask with dtype torch.bool instead. (Triggered internally at  /pytorch/aten/src/ATen/native/LegacyDefinitions.cpp:20.)\n",
            "  allow_unreachable=True)  # allow_unreachable flag\n"
          ],
          "name": "stderr"
        },
        {
          "output_type": "stream",
          "text": [
            "Iteration: 50; Percent complete: 1.0%; Average loss: 4.9849\n",
            "Iteration: 100; Percent complete: 2.0%; Average loss: 3.9319\n",
            "Iteration: 150; Percent complete: 3.0%; Average loss: 3.7634\n",
            "Iteration: 200; Percent complete: 4.0%; Average loss: 3.5586\n",
            "Iteration: 250; Percent complete: 5.0%; Average loss: 3.4515\n",
            "Iteration: 300; Percent complete: 6.0%; Average loss: 3.3753\n",
            "Iteration: 350; Percent complete: 7.0%; Average loss: 3.3010\n",
            "Iteration: 400; Percent complete: 8.0%; Average loss: 3.2445\n",
            "Iteration: 450; Percent complete: 9.0%; Average loss: 3.2081\n",
            "Iteration: 500; Percent complete: 10.0%; Average loss: 3.1637\n",
            "Iteration: 550; Percent complete: 11.0%; Average loss: 3.1509\n",
            "Iteration: 600; Percent complete: 12.0%; Average loss: 3.1463\n",
            "Iteration: 650; Percent complete: 13.0%; Average loss: 3.0696\n",
            "Iteration: 700; Percent complete: 14.0%; Average loss: 3.1021\n",
            "Iteration: 750; Percent complete: 15.0%; Average loss: 3.0049\n",
            "Iteration: 800; Percent complete: 16.0%; Average loss: 3.0352\n",
            "Iteration: 850; Percent complete: 17.0%; Average loss: 3.0118\n",
            "Iteration: 900; Percent complete: 18.0%; Average loss: 2.9689\n",
            "Iteration: 950; Percent complete: 19.0%; Average loss: 2.9545\n",
            "Iteration: 1000; Percent complete: 20.0%; Average loss: 2.9296\n",
            "Iteration: 1050; Percent complete: 21.0%; Average loss: 2.9561\n",
            "Iteration: 1100; Percent complete: 22.0%; Average loss: 2.9200\n",
            "Iteration: 1150; Percent complete: 23.0%; Average loss: 2.8997\n",
            "Iteration: 1200; Percent complete: 24.0%; Average loss: 2.8597\n",
            "Iteration: 1250; Percent complete: 25.0%; Average loss: 2.8240\n",
            "Iteration: 1300; Percent complete: 26.0%; Average loss: 2.8735\n",
            "Iteration: 1350; Percent complete: 27.0%; Average loss: 2.8539\n",
            "Iteration: 1400; Percent complete: 28.0%; Average loss: 2.8077\n",
            "Iteration: 1450; Percent complete: 29.0%; Average loss: 2.8417\n",
            "Iteration: 1500; Percent complete: 30.0%; Average loss: 2.7703\n",
            "Iteration: 1550; Percent complete: 31.0%; Average loss: 2.7444\n",
            "Iteration: 1600; Percent complete: 32.0%; Average loss: 2.7839\n",
            "Iteration: 1650; Percent complete: 33.0%; Average loss: 2.7479\n",
            "Iteration: 1700; Percent complete: 34.0%; Average loss: 2.7321\n",
            "Iteration: 1750; Percent complete: 35.0%; Average loss: 2.7347\n",
            "Iteration: 1800; Percent complete: 36.0%; Average loss: 2.7351\n",
            "Iteration: 1850; Percent complete: 37.0%; Average loss: 2.7216\n",
            "Iteration: 1900; Percent complete: 38.0%; Average loss: 2.6706\n",
            "Iteration: 1950; Percent complete: 39.0%; Average loss: 2.6803\n",
            "Iteration: 2000; Percent complete: 40.0%; Average loss: 2.6538\n",
            "Iteration: 2050; Percent complete: 41.0%; Average loss: 2.6322\n",
            "Iteration: 2100; Percent complete: 42.0%; Average loss: 2.6301\n",
            "Iteration: 2150; Percent complete: 43.0%; Average loss: 2.6335\n",
            "Iteration: 2200; Percent complete: 44.0%; Average loss: 2.6299\n",
            "Iteration: 2250; Percent complete: 45.0%; Average loss: 2.5970\n",
            "Iteration: 2300; Percent complete: 46.0%; Average loss: 2.5633\n",
            "Iteration: 2350; Percent complete: 47.0%; Average loss: 2.6171\n",
            "Iteration: 2400; Percent complete: 48.0%; Average loss: 2.5485\n",
            "Iteration: 2450; Percent complete: 49.0%; Average loss: 2.5540\n",
            "Iteration: 2500; Percent complete: 50.0%; Average loss: 2.5547\n",
            "Iteration: 2550; Percent complete: 51.0%; Average loss: 2.4868\n",
            "Iteration: 2600; Percent complete: 52.0%; Average loss: 2.5244\n",
            "Iteration: 2650; Percent complete: 53.0%; Average loss: 2.4912\n",
            "Iteration: 2700; Percent complete: 54.0%; Average loss: 2.4692\n",
            "Iteration: 2750; Percent complete: 55.0%; Average loss: 2.4864\n",
            "Iteration: 2800; Percent complete: 56.0%; Average loss: 2.4607\n",
            "Iteration: 2850; Percent complete: 57.0%; Average loss: 2.4784\n",
            "Iteration: 2900; Percent complete: 58.0%; Average loss: 2.4056\n",
            "Iteration: 2950; Percent complete: 59.0%; Average loss: 2.4253\n",
            "Iteration: 3000; Percent complete: 60.0%; Average loss: 2.3910\n",
            "Iteration: 3050; Percent complete: 61.0%; Average loss: 2.3995\n",
            "Iteration: 3100; Percent complete: 62.0%; Average loss: 2.3803\n",
            "Iteration: 3150; Percent complete: 63.0%; Average loss: 2.3903\n",
            "Iteration: 3200; Percent complete: 64.0%; Average loss: 2.3549\n",
            "Iteration: 3250; Percent complete: 65.0%; Average loss: 2.3842\n",
            "Iteration: 3300; Percent complete: 66.0%; Average loss: 2.3371\n",
            "Iteration: 3350; Percent complete: 67.0%; Average loss: 2.3381\n",
            "Iteration: 3400; Percent complete: 68.0%; Average loss: 2.3158\n",
            "Iteration: 3450; Percent complete: 69.0%; Average loss: 2.3241\n",
            "Iteration: 3500; Percent complete: 70.0%; Average loss: 2.2899\n",
            "Iteration: 3550; Percent complete: 71.0%; Average loss: 2.2517\n",
            "Iteration: 3600; Percent complete: 72.0%; Average loss: 2.2710\n",
            "Iteration: 3650; Percent complete: 73.0%; Average loss: 2.2540\n",
            "Iteration: 3700; Percent complete: 74.0%; Average loss: 2.2405\n",
            "Iteration: 3750; Percent complete: 75.0%; Average loss: 2.2113\n",
            "Iteration: 3800; Percent complete: 76.0%; Average loss: 2.1829\n",
            "Iteration: 3850; Percent complete: 77.0%; Average loss: 2.2027\n",
            "Iteration: 3900; Percent complete: 78.0%; Average loss: 2.2346\n",
            "Iteration: 3950; Percent complete: 79.0%; Average loss: 2.1739\n",
            "Iteration: 4000; Percent complete: 80.0%; Average loss: 2.1668\n",
            "Iteration: 4050; Percent complete: 81.0%; Average loss: 2.1758\n",
            "Iteration: 4100; Percent complete: 82.0%; Average loss: 2.1230\n",
            "Iteration: 4150; Percent complete: 83.0%; Average loss: 2.1210\n",
            "Iteration: 4200; Percent complete: 84.0%; Average loss: 2.1002\n",
            "Iteration: 4250; Percent complete: 85.0%; Average loss: 2.1194\n",
            "Iteration: 4300; Percent complete: 86.0%; Average loss: 2.1024\n",
            "Iteration: 4350; Percent complete: 87.0%; Average loss: 2.0855\n",
            "Iteration: 4400; Percent complete: 88.0%; Average loss: 2.0854\n",
            "Iteration: 4450; Percent complete: 89.0%; Average loss: 2.0454\n",
            "Iteration: 4500; Percent complete: 90.0%; Average loss: 2.0288\n",
            "Iteration: 4550; Percent complete: 91.0%; Average loss: 2.0287\n",
            "Iteration: 4600; Percent complete: 92.0%; Average loss: 2.0346\n",
            "Iteration: 4650; Percent complete: 93.0%; Average loss: 1.9956\n",
            "Iteration: 4700; Percent complete: 94.0%; Average loss: 2.0177\n",
            "Iteration: 4750; Percent complete: 95.0%; Average loss: 1.9874\n",
            "Iteration: 4800; Percent complete: 96.0%; Average loss: 1.9828\n",
            "Iteration: 4850; Percent complete: 97.0%; Average loss: 1.9501\n",
            "Iteration: 4900; Percent complete: 98.0%; Average loss: 1.9523\n",
            "Iteration: 4950; Percent complete: 99.0%; Average loss: 1.9405\n",
            "Iteration: 5000; Percent complete: 100.0%; Average loss: 1.9463\n"
          ],
          "name": "stdout"
        }
      ]
    },
    {
      "cell_type": "code",
      "metadata": {
        "id": "-uOOn-gxvSIe"
      },
      "source": [
        "# Set dropout layers to eval mode\n",
        "encoder.eval()\n",
        "decoder.eval()\n",
        "\n",
        "# Initialize search module\n",
        "searcher = GreedySearchDecoder(encoder, decoder)"
      ],
      "execution_count": 49,
      "outputs": []
    },
    {
      "cell_type": "code",
      "metadata": {
        "id": "AiRgkSGcvSIg"
      },
      "source": [
        "evaluateInput(encoder, decoder, searcher, voc)"
      ],
      "execution_count": null,
      "outputs": []
    },
    {
      "cell_type": "code",
      "metadata": {
        "id": "rPnSRHFw4_wU"
      },
      "source": [
        ""
      ],
      "execution_count": null,
      "outputs": []
    }
  ]
}