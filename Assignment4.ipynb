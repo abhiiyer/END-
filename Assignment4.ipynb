{
  "nbformat": 4,
  "nbformat_minor": 0,
  "metadata": {
    "colab": {
      "name": "Assignment4.ipynb",
      "provenance": [],
      "collapsed_sections": [],
      "authorship_tag": "ABX9TyP48Xp14VNZExQVPNGLoBU6",
      "include_colab_link": true
    },
    "kernelspec": {
      "name": "python3",
      "display_name": "Python 3"
    },
    "accelerator": "GPU"
  },
  "cells": [
    {
      "cell_type": "markdown",
      "metadata": {
        "id": "view-in-github",
        "colab_type": "text"
      },
      "source": [
        "<a href=\"https://colab.research.google.com/github/abhiiyer/END-/blob/main/Assignment4.ipynb\" target=\"_parent\"><img src=\"https://colab.research.google.com/assets/colab-badge.svg\" alt=\"Open In Colab\"/></a>"
      ]
    },
    {
      "cell_type": "code",
      "metadata": {
        "id": "PeHoohrpjpkp"
      },
      "source": [
        "import torch  #deal with tensors\n",
        "from torchtext import data #handling text data\n",
        "from torchtext import datasets\n",
        "\n",
        "SEED = 1234 #Reproducing same results\n",
        "\n",
        "torch.manual_seed(SEED)\n",
        "torch.backends.cudnn.deterministic = True  #Cuda algorithms\n",
        "\n",
        "TEXT = data.Field(tokenize = 'spacy', include_lengths = True)\n",
        "LABEL = data.LabelField(dtype = torch.float)\n",
        "\n",
        "from torchtext import datasets\n",
        "train_data, test_data = datasets.IMDB.splits(TEXT, LABEL)\n",
        "\n",
        "for i in range(len(train_data)):\n",
        "  vars(train_data.examples[i]).get('text').reverse()\n",
        "\n",
        "import random\n",
        "train_data, valid_data = train_data.split(random_state = random.seed(SEED))\n",
        "\n",
        "MAX_VOCAB_SIZE = 25_000\n",
        "\n",
        "#initialize glove embeddings\n",
        "TEXT.build_vocab(train_data, \n",
        "                 max_size = MAX_VOCAB_SIZE, \n",
        "                 vectors = \"glove.6B.100d\",   # Changed from 100D to 300D\n",
        "                 unk_init = torch.Tensor.normal_)\n",
        "\n",
        "LABEL.build_vocab(train_data)\n",
        "\n",
        "#set batch size\n",
        "BATCH_SIZE = 64\n",
        "\n",
        "#check whether cuda is available\n",
        "device = torch.device('cuda' if torch.cuda.is_available() else 'cpu')\n",
        "\n",
        "train_iterator, valid_iterator, test_iterator = data.BucketIterator.splits(\n",
        "    (train_data, valid_data, test_data), \n",
        "    batch_size = BATCH_SIZE,\n",
        "    sort_within_batch = True,\n",
        "    device = device)\n",
        "\n"
      ],
      "execution_count": null,
      "outputs": []
    },
    {
      "cell_type": "code",
      "metadata": {
        "id": "rphRsRWko0Cn",
        "colab": {
          "base_uri": "https://localhost:8080/"
        },
        "outputId": "e2cc53ef-3a2c-49a4-f916-ec5519079fea"
      },
      "source": [
        "print(vars(train_data.examples[0])['text'])"
      ],
      "execution_count": null,
      "outputs": [
        {
          "output_type": "stream",
          "text": [
            "['.', 'involved', 'everyone', 'for', 'embarrassed', 'deeply', 'felt', 'actually', 'I', 'where', 'experiences', 'going', '-', 'movie', 'unfortunate', 'those', 'of', 'one', \"'s\", 'It', '.', 'one', 'this', 'save', \"n't\", 'ca', 'Rapp', 'Anthony', 'Even', '.', 'charming', 'and', 'witty', 'are', 'that', 'lyrics', 'have', 'you', ')', 'e.', '(', 'and', ',', 'score', 'written', '-', 'well', 'a', 'have', 'you', ')', 'd.', '(', ',', 'equipment', 'sound', 'decent', 'have', 'you', ')', 'c.', '(', ',', 'dance', 'can', 'actors', 'your', ')', 'b.', '(', ',', 'sing', 'can', 'actors', 'your', ')', 'a.', '(', 'that', 'sure', 'make', 'probably', 'should', 'you', ',', 'playhouse', 'community', 'local', 'the', 'at', 'or', 'Broadway', 'on', 'whether', ',', 'stage', 'on', 'or', 'film', 'on', 'whether', ',', 'musical', 'a', 'make', 'to', 'going', \"'re\", 'you', 'If', '.', 'pass', 'free', 'a', 'gets', 'it', 'mean', \"n't\", 'does', '\"', 'independent', '\"', \"'s\", 'it', 'because', 'Just', '.', 'unwatchable', 'truly', 'is', 'film', 'this', 'that', 'is', ',', 'friends', 'my', ',', 'truth', 'The', '.', 'groupies', '\"', 'House', 'Open', '\"', 'of', 'group', 'coordinated', ',', 'small', 'a', 'best', 'at', 'or', ',', 'person', 'same', 'the', 'from', 'coming', \"'re\", 'they', 'like', 'sound', 'reviews', 'rave', 'these', 'of', 'most', ',', 'is', 'thing', 'Funny', '\"', '.', '30', 'December', 'on', 'posted', 'REVIEWS', 'RAVE', 'of', 'bunch', 'a', 'sure', 'were', 'There', '.', 'Huh', '\"', ',', 'yourself', 'to', 'thinking', 'be', 'might', 'you', 'and', ',', 'film', 'this', 'on', 'posted', 'comments', 'the', 'of', 'some', 'reading', 'be', 'might', 'you', 'So']\n"
          ],
          "name": "stdout"
        }
      ]
    },
    {
      "cell_type": "code",
      "metadata": {
        "id": "tXNKhLt3F7Xc"
      },
      "source": [
        "from torch import nn\n",
        "\n",
        "class AdamNetV21(nn.Module):\n",
        "  def __init__(self, vocab_size, embedding_dim, hidden_dim, n_layers,is_bidirectional=True,\n",
        "              dropout=0.0, output_dim=1, padding_idx=None):\n",
        "    super().__init__()\n",
        "        \n",
        "    embedding = nn.Embedding(vocab_size, embedding_dim, \n",
        "                                  padding_idx=padding_idx)\n",
        "    \n",
        "    lstm = nn.LSTM(embedding_dim, hidden_dim, \n",
        "                        num_layers=n_layers,bidirectional=is_bidirectional,\n",
        "                       dropout=dropout)\n",
        "    \n",
        "    fc = nn.Linear(2*hidden_dim, output_dim)\n",
        "    #dpout = nn.Dropout(dropout)\n",
        "    \n",
        "    l = [embedding,lstm,fc]\n",
        "    self.module_list = nn.ModuleList(l)\n",
        "    \n",
        "  def forward(self, input_sequence, sequence_length):\n",
        "\n",
        "    for f in self.module_list:\n",
        "      #print(\"Inside forward function. f is \",f)\n",
        "      embeddings = (self.module_list[0](input_sequence))\n",
        "      packed_embeddings = nn.utils.rnn.pack_padded_sequence(embeddings, sequence_length)\n",
        "      packed_output, (hidden_state, cell_state) = self.module_list[1](packed_embeddings)\n",
        "      output = (torch.cat((hidden_state[-2,:,:], hidden_state[-1,:,:]), dim = 1))\n",
        "      scores = self.module_list[2](output)\n",
        "      return scores\n",
        "      \n",
        "      # if self.is_bidirectional:\n",
        "      #   output = torch.cat((hidden_state[-2,:,:], hidden_state[-1,:,:]), dim = 1)\n",
        "      # else:\n",
        "      #   output = hidden_state[-1,:,:]\n",
        "      \n",
        "    \n",
        "    "
      ],
      "execution_count": null,
      "outputs": []
    },
    {
      "cell_type": "code",
      "metadata": {
        "id": "Y5aIveAUo_-_",
        "colab": {
          "base_uri": "https://localhost:8080/"
        },
        "outputId": "fde0d060-59ef-462d-a336-841ead958ae5"
      },
      "source": [
        "vocab_size = len(TEXT.vocab)\n",
        "embedding_dim = 100 # This needs to match the size of the pre-trained embeddings!\n",
        "hidden_dim = 256\n",
        "num_layers = 3\n",
        "dropout = 0.2\n",
        "pad_idx = TEXT.vocab.stoi[TEXT.pad_token]\n",
        "model = AdamNetV21(vocab_size=vocab_size, embedding_dim=embedding_dim,hidden_dim=hidden_dim,\n",
        "                  n_layers=num_layers,  dropout=dropout,\n",
        "                  padding_idx=pad_idx)\n",
        "print(model)\n",
        "#print(list(model.parameters()))\n",
        "\n",
        "\n",
        "\n",
        "# Initialize word embeddings\n",
        "glove_vectors = TEXT.vocab.vectors\n",
        "model.module_list[0].weight.data.copy_(glove_vectors)\n",
        "# Zero out <unk> and <pad> tokens\n",
        "unk_idx = TEXT.vocab.stoi[TEXT.unk_token]\n",
        "model.module_list[0].weight.data[unk_idx] = torch.zeros(embedding_dim)\n",
        "model.module_list[0].weight.data[pad_idx] = torch.zeros(embedding_dim)\n",
        "# Define our loss function, optimizer, and move things to GPU\n",
        "criterion = nn.BCEWithLogitsLoss()\n",
        "model = model.to(device)\n",
        "criterion = criterion.to(device)\n",
        "\n",
        "import torch.optim as optim\n",
        "optimizer = optim.Adam(model.parameters())"
      ],
      "execution_count": null,
      "outputs": [
        {
          "output_type": "stream",
          "text": [
            "AdamNetV21(\n",
            "  (module_list): ModuleList(\n",
            "    (0): Embedding(25002, 100, padding_idx=1)\n",
            "    (1): LSTM(100, 256, num_layers=3, dropout=0.2, bidirectional=True)\n",
            "    (2): Linear(in_features=512, out_features=1, bias=True)\n",
            "  )\n",
            ")\n"
          ],
          "name": "stdout"
        }
      ]
    },
    {
      "cell_type": "code",
      "metadata": {
        "id": "C1WnjzuOpABe"
      },
      "source": [
        "def accuracy(scores, y):    \n",
        "    scores = torch.round(torch.sigmoid(scores))\n",
        "    correct = (scores == y)\n",
        "    acc = correct.sum() / len(correct)\n",
        "    return acc\n",
        "\n",
        "def train(model, iterator, optimizer, criterion):\n",
        "    \n",
        "    epoch_loss = 0\n",
        "    epoch_acc = 0\n",
        "    \n",
        "    model.train()\n",
        "    \n",
        "    for batch in iterator:\n",
        "        \n",
        "        optimizer.zero_grad()\n",
        "        \n",
        "        text, text_lengths = batch.text\n",
        "        text_lengths = text_lengths.cpu()\n",
        "        predictions = model(text, text_lengths).squeeze(1)\n",
        "        \n",
        "        loss = criterion(predictions, batch.label)\n",
        "        \n",
        "        acc = accuracy(predictions, batch.label)\n",
        "        \n",
        "        loss.backward()\n",
        "        \n",
        "        optimizer.step()\n",
        "        \n",
        "        epoch_loss += loss.item()\n",
        "        epoch_acc += acc.item()\n",
        "    return epoch_loss / len(iterator), epoch_acc / len(iterator)\n",
        "\n",
        "\n",
        "def evaluate(model, iterator, criterion):\n",
        "    \n",
        "    epoch_loss = 0\n",
        "    epoch_acc = 0\n",
        "    \n",
        "    model.eval()\n",
        "    \n",
        "    with torch.no_grad():\n",
        "    \n",
        "        for batch in iterator:\n",
        "            text, text_lengths = batch.text\n",
        "            text_lengths = text_lengths.cpu()\n",
        "            predictions = model(text, text_lengths).squeeze(1)\n",
        "            \n",
        "            loss = criterion(predictions, batch.label)\n",
        "            \n",
        "            acc = accuracy(predictions, batch.label)\n",
        "            epoch_loss += loss.item()\n",
        "            epoch_acc += acc.item()\n",
        "      \n",
        "    \n",
        "    return epoch_loss / len(iterator), epoch_acc / len(iterator)\n"
      ],
      "execution_count": null,
      "outputs": []
    },
    {
      "cell_type": "code",
      "metadata": {
        "id": "Ice244gw3Shg"
      },
      "source": [
        "import time\n",
        "\n",
        "def epoch_time(start_time, end_time):\n",
        "    elapsed_time = end_time - start_time\n",
        "    elapsed_mins = int(elapsed_time / 60)\n",
        "    elapsed_secs = int(elapsed_time - (elapsed_mins * 60))\n",
        "    return elapsed_mins, elapsed_secs"
      ],
      "execution_count": null,
      "outputs": []
    },
    {
      "cell_type": "code",
      "metadata": {
        "id": "-MVG8zXBpAD6",
        "colab": {
          "base_uri": "https://localhost:8080/"
        },
        "outputId": "468eafba-155d-4b4e-bfdd-526edd62a79e"
      },
      "source": [
        "num_epochs = 10\n",
        "best_valid_loss = 1000000\n",
        "\n",
        "# from tensorboardX import SummaryWriter\n",
        "# summary_writer = SummaryWriter(log_dir=f\"C:/Users/Lenovo/Desktop/Banking Use-Cases/tf_log/\")\n",
        "\n",
        "for epoch in range(num_epochs):    \n",
        "\n",
        "    start_time = time.time()\n",
        "    train_loss, train_acc = train(model, train_iterator, optimizer, criterion)\n",
        "    valid_loss, valid_acc = evaluate(model, valid_iterator, criterion)\n",
        "\n",
        "    end_time = time.time()\n",
        "\n",
        "    epoch_mins, epoch_secs = epoch_time(start_time, end_time)\n",
        "    \n",
        "    if valid_loss < best_valid_loss:\n",
        "        best_valid_loss = valid_loss\n",
        "        torch.save(model.state_dict(), 'tut2-model.pt')\n",
        "\n",
        "    print(f'Epoch: {epoch+1:02} | Epoch Time: {epoch_mins}m {epoch_secs}s')\n",
        "    print(f'\\tTrain Loss: {train_loss:.3f} | Train Acc: {train_acc*100:.2f}%')\n",
        "    print(f'\\t Val. Loss: {valid_loss:.3f} |  Val. Acc: {valid_acc*100:.2f}%')\n",
        "    \n",
        "    # # Log the training results\n",
        "    # summary_writer.add_scalar(\"training/accuracy\", train_acc, epoch)\n",
        "    # summary_writer.add_scalar(\"training/loss\", train_loss, epoch)\n",
        "    \n",
        "    # # Log the validation results\n",
        "    # summary_writer.add_scalar(\"validation/accuracy\", valid_acc, epoch)\n",
        "    # summary_writer.add_scalar(\"validation/loss\", valid_loss, epoch)\n",
        " \n",
        "   \n",
        "    # # After completing all epochs, visualize our word vectors\n",
        "    # vecs = model.embedding.weight.data\n",
        "    # labels = [l.encode('utf8') for l in TEXT.vocab.itos]\n",
        "    # summary_writer.add_embedding(vecs, \n",
        "    #                             metadata=labels)\n",
        "    # summary_writer.close()\n",
        "\n",
        "# Print test performance\n",
        "test_loss, test_accuracy = evaluate(model, test_iterator, criterion)\n",
        "print(f'Test Loss: {test_loss:.3f}\\nTest Acc: {test_accuracy*100:.2f}%')"
      ],
      "execution_count": null,
      "outputs": [
        {
          "output_type": "stream",
          "text": [
            "Epoch: 01 | Epoch Time: 1m 5s\n",
            "\tTrain Loss: 0.526 | Train Acc: 74.43%\n",
            "\t Val. Loss: 0.487 |  Val. Acc: 77.91%\n",
            "Epoch: 02 | Epoch Time: 1m 7s\n",
            "\tTrain Loss: 0.345 | Train Acc: 85.53%\n",
            "\t Val. Loss: 0.349 |  Val. Acc: 85.79%\n",
            "Epoch: 03 | Epoch Time: 1m 8s\n",
            "\tTrain Loss: 0.272 | Train Acc: 89.00%\n",
            "\t Val. Loss: 0.402 |  Val. Acc: 82.80%\n",
            "Epoch: 04 | Epoch Time: 1m 8s\n",
            "\tTrain Loss: 0.205 | Train Acc: 92.28%\n",
            "\t Val. Loss: 0.298 |  Val. Acc: 87.91%\n",
            "Epoch: 05 | Epoch Time: 1m 8s\n",
            "\tTrain Loss: 0.166 | Train Acc: 93.78%\n",
            "\t Val. Loss: 0.357 |  Val. Acc: 87.50%\n",
            "Epoch: 06 | Epoch Time: 1m 8s\n",
            "\tTrain Loss: 0.122 | Train Acc: 95.77%\n",
            "\t Val. Loss: 0.340 |  Val. Acc: 87.96%\n",
            "Epoch: 07 | Epoch Time: 1m 8s\n",
            "\tTrain Loss: 0.157 | Train Acc: 94.91%\n",
            "\t Val. Loss: 0.340 |  Val. Acc: 86.55%\n",
            "Epoch: 08 | Epoch Time: 1m 8s\n",
            "\tTrain Loss: 0.089 | Train Acc: 97.07%\n",
            "\t Val. Loss: 0.387 |  Val. Acc: 87.39%\n",
            "Epoch: 09 | Epoch Time: 1m 8s\n",
            "\tTrain Loss: 0.056 | Train Acc: 98.27%\n",
            "\t Val. Loss: 0.420 |  Val. Acc: 88.10%\n",
            "Epoch: 10 | Epoch Time: 1m 8s\n",
            "\tTrain Loss: 0.038 | Train Acc: 98.96%\n",
            "\t Val. Loss: 0.456 |  Val. Acc: 88.22%\n",
            "Test Loss: 0.566\n",
            "Test Acc: 84.64%\n"
          ],
          "name": "stdout"
        }
      ]
    },
    {
      "cell_type": "code",
      "metadata": {
        "id": "_uWp4M5FpAI3"
      },
      "source": [
        "import spacy\n",
        "nlp = spacy.load('en')\n",
        "\n",
        "def predict_sentiment(model, sentence):\n",
        "    model.eval()\n",
        "    tokenized = [tok.text for tok in nlp.tokenizer(sentence)]\n",
        "    indexed = [TEXT.vocab.stoi[t] for t in tokenized]\n",
        "    length = [len(indexed)]\n",
        "    tensor = torch.LongTensor(indexed).to(device)\n",
        "    tensor = tensor.unsqueeze(1)\n",
        "    length_tensor = torch.LongTensor(length)\n",
        "    prediction = torch.sigmoid(model(tensor, length_tensor))\n",
        "    return prediction.item()"
      ],
      "execution_count": null,
      "outputs": []
    },
    {
      "cell_type": "code",
      "metadata": {
        "id": "3EpDFmH-zzlF",
        "colab": {
          "base_uri": "https://localhost:8080/"
        },
        "outputId": "ee689b80-9d32-4650-9b6b-3ff7fc6b1b5c"
      },
      "source": [
        "predict_sentiment(model, \"great is film This\")\n"
      ],
      "execution_count": null,
      "outputs": [
        {
          "output_type": "execute_result",
          "data": {
            "text/plain": [
              "0.9997666478157043"
            ]
          },
          "metadata": {
            "tags": []
          },
          "execution_count": 30
        }
      ]
    },
    {
      "cell_type": "code",
      "metadata": {
        "id": "5JAZPjcKzzqY",
        "colab": {
          "base_uri": "https://localhost:8080/"
        },
        "outputId": "db721395-be74-44d4-e9c6-e5d30f718a7d"
      },
      "source": [
        "predict_sentiment(model, \"This film is great\")\n"
      ],
      "execution_count": null,
      "outputs": [
        {
          "output_type": "execute_result",
          "data": {
            "text/plain": [
              "0.9999008178710938"
            ]
          },
          "metadata": {
            "tags": []
          },
          "execution_count": 27
        }
      ]
    }
  ]
}